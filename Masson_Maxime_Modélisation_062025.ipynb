{
  "cells": [
    {
      "cell_type": "markdown",
      "metadata": {
        "id": "1b9uAXOO5KkK"
      },
      "source": [
        "# Projet 10 - Modélisation"
      ]
    },
    {
      "cell_type": "markdown",
      "metadata": {
        "id": "wdHxf06g5KkL"
      },
      "source": [
        "L'objectif général d'une méthode de recommandation est de *prédire les valeurs manquantes* d'une matrice utilisateur-élément, où chaque utilisateur est associé à une ligne et chaque élément à une colonne."
      ]
    },
    {
      "cell_type": "markdown",
      "metadata": {
        "id": "Z2JD_VJE5KkL"
      },
      "source": [
        "Ce cahier a pour objectif de présenter les étapes de conception de trois modèles de recommandation :\n",
        "\n",
        "* Un modèle non personnalisé basé sur la popularité des articles ;\n",
        "* Un modèle basé sur le contenu ;\n",
        "* Un modèle basé sur le filtrage collaboratif."
      ]
    },
    {
      "cell_type": "markdown",
      "metadata": {
        "id": "aIf5dJFv5KkL"
      },
      "source": [
        "# 1. Système de recommandation"
      ]
    },
    {
      "cell_type": "markdown",
      "metadata": {
        "id": "wrXYb5sf5KkM"
      },
      "source": [
        "Il existe deux principaux types de systèmes de recommandation : personnalisés et non personnalisés.\n",
        "\n",
        "* Les systèmes de recommandation non personnalisés, comme les systèmes basés sur la popularité, recommandent les articles les plus populaires aux utilisateurs, par exemple les 10 meilleurs films, les livres les plus vendus ou les produits les plus achetés.\n",
        "* Les systèmes de recommandation personnalisés analysent plus en détail les données des utilisateurs, leurs achats, leurs notes et leurs relations avec les autres utilisateurs. Ainsi, chaque utilisateur reçoit des recommandations personnalisées."
      ]
    },
    {
      "cell_type": "markdown",
      "metadata": {
        "id": "S3eBWBQ85KkM"
      },
      "source": [
        "* Les systèmes de recommandation personnalisés les plus populaires sont le filtrage basé sur le contenu et le filtrage collaboratif.\n",
        "* Les systèmes de recommandation non personnalisés, comme les systèmes basés sur la popularité, recommandent les articles les plus populaires aux utilisateurs, par exemple les 10 meilleurs films, les livres les plus vendus ou les produits les plus achetés."
      ]
    },
    {
      "cell_type": "code",
      "execution_count": 1,
      "metadata": {},
      "outputs": [],
      "source": [
        "import pandas as pd\n",
        "import numpy as np\n",
        "from pathlib import Path\n",
        "from datetime import datetime\n",
        "import os\n",
        "import pickle\n",
        "from time import time\n",
        "from random import randint\n",
        "import matplotlib.pyplot as plt\n",
        "import seaborn as sns\n",
        "\n",
        "%matplotlib inline"
      ]
    },
    {
      "cell_type": "markdown",
      "metadata": {
        "id": "Hb-CgECt5KkM"
      },
      "source": [
        "# 2. Préparation des données"
      ]
    },
    {
      "cell_type": "code",
      "execution_count": 2,
      "metadata": {
        "execution": {
          "iopub.execute_input": "2022-11-13T15:23:59.07985Z",
          "iopub.status.busy": "2022-11-13T15:23:59.078528Z",
          "iopub.status.idle": "2022-11-13T15:23:59.121406Z",
          "shell.execute_reply": "2022-11-13T15:23:59.119894Z",
          "shell.execute_reply.started": "2022-11-13T15:23:59.079738Z"
        },
        "id": "v_HsiK3A5KkM",
        "trusted": true
      },
      "outputs": [],
      "source": [
        "src_path = Path(\"/home/maxime/openclassrooms/projet10_data/news-portal-user-interactions-by-globocom\")\n",
        "click_path = Path(\"/home/maxime/openclassrooms/projet10_data/news-portal-user-interactions-by-globocom/clicks/clicks\")"
      ]
    },
    {
      "cell_type": "code",
      "execution_count": 3,
      "metadata": {
        "execution": {
          "iopub.execute_input": "2022-11-13T15:24:03.791379Z",
          "iopub.status.busy": "2022-11-13T15:24:03.790947Z",
          "iopub.status.idle": "2022-11-13T15:24:18.461564Z",
          "shell.execute_reply": "2022-11-13T15:24:18.460449Z",
          "shell.execute_reply.started": "2022-11-13T15:24:03.791342Z"
        },
        "id": "RkeJBLQc5KkN",
        "trusted": true
      },
      "outputs": [],
      "source": [
        "def get_interaction_dataset(click_path: Path) -> pd.DataFrame:\n",
        "    \"\"\"Obtenir un dataset concaténé.\"\"\"\n",
        "    click_filelist = sorted(click_path.iterdir(), key=lambda x: x.name)\n",
        "    click_list = []\n",
        "    for i in range(0, len(click_filelist)):\n",
        "        temp = pd.read_csv(click_path / click_filelist[i])\n",
        "        temp['filename'] = i\n",
        "        click_list.append(temp)\n",
        "    clicks = pd.concat(click_list, axis=0, ignore_index=True)\n",
        "\n",
        "    clicks.rename(columns={'click_article_id':'article_id'}, inplace=True)\n",
        "    date2convert = ['session_start', 'click_timestamp']\n",
        "    for col in date2convert:\n",
        "        clicks[col] = pd.to_datetime(clicks[col], unit='ms')\n",
        "\n",
        "    clicks.drop(columns=['click_environment', 'click_deviceGroup', 'click_os', 'click_country', 'click_region', 'click_referrer_type'], inplace=True)\n",
        "    clicks = clicks.astype(np.int64)\n",
        "    return clicks\n",
        "\n",
        "clicks = get_interaction_dataset(click_path=click_path)"
      ]
    },
    {
      "cell_type": "code",
      "execution_count": 4,
      "metadata": {},
      "outputs": [],
      "source": [
        "articles = pd.read_csv(src_path / 'articles_metadata.csv')\n",
        "\n",
        "articles['created_at_ts'] = pd.to_datetime(\n",
        "    (pd.to_datetime(\n",
        "        articles['created_at_ts'],\n",
        "        unit='ms')).dt.strftime('%Y/%m/%d'))\n",
        "\n",
        "articles.drop(columns=['publisher_id'], inplace=True)\n",
        "articles = articles.astype(np.int64)"
      ]
    },
    {
      "cell_type": "code",
      "execution_count": 5,
      "metadata": {},
      "outputs": [],
      "source": [
        "with open(os.path.join(src_path,'articles_embeddings.pickle'), 'rb') as file:\n",
        "    embeddings = pickle.load(file)\n",
        "\n",
        "embeddings = embeddings.astype(np.float32)"
      ]
    },
    {
      "cell_type": "code",
      "execution_count": 6,
      "metadata": {},
      "outputs": [
        {
          "name": "stdout",
          "output_type": "stream",
          "text": [
            "Articles Dataframe shape:  (364047, 4)\n",
            "Embedding Matrix shape:  (364047, 250)\n",
            "Clicks Dataframe shape:  (2988181, 7)\n"
          ]
        }
      ],
      "source": [
        "# Display shape\n",
        "print('Articles Dataframe shape: ', articles.shape)\n",
        "print('Embedding Matrix shape: ', embeddings.shape)\n",
        "print('Clicks Dataframe shape: ', clicks.shape)"
      ]
    },
    {
      "cell_type": "markdown",
      "metadata": {
        "id": "Y8ElyXkR5KkN"
      },
      "source": [
        "## 2.1. Dataset d'interactions"
      ]
    },
    {
      "cell_type": "code",
      "execution_count": 7,
      "metadata": {
        "execution": {
          "iopub.execute_input": "2022-11-13T15:24:37.41054Z",
          "iopub.status.busy": "2022-11-13T15:24:37.410116Z",
          "iopub.status.idle": "2022-11-13T15:24:45.124656Z",
          "shell.execute_reply": "2022-11-13T15:24:45.123496Z",
          "shell.execute_reply.started": "2022-11-13T15:24:37.410506Z"
        },
        "id": "ZrdzB7Ft5KkN",
        "trusted": true
      },
      "outputs": [
        {
          "name": "stdout",
          "output_type": "stream",
          "text": [
            "(2988181, 7)\n",
            "Clicks Dataframe shape:  (2988181, 7)\n"
          ]
        }
      ],
      "source": [
        "print(clicks.shape)\n",
        "# Display DF shape and 5 first rows\n",
        "print('Clicks Dataframe shape: ', clicks.shape)\n",
        "clicks.head()\n",
        "\n",
        "clicks.to_csv('./clicks.csv', index=False)\n"
      ]
    },
    {
      "cell_type": "code",
      "execution_count": 8,
      "metadata": {},
      "outputs": [
        {
          "data": {
            "text/html": [
              "<div>\n",
              "<style scoped>\n",
              "    .dataframe tbody tr th:only-of-type {\n",
              "        vertical-align: middle;\n",
              "    }\n",
              "\n",
              "    .dataframe tbody tr th {\n",
              "        vertical-align: top;\n",
              "    }\n",
              "\n",
              "    .dataframe thead th {\n",
              "        text-align: right;\n",
              "    }\n",
              "</style>\n",
              "<table border=\"1\" class=\"dataframe\">\n",
              "  <thead>\n",
              "    <tr style=\"text-align: right;\">\n",
              "      <th></th>\n",
              "      <th>user_id</th>\n",
              "      <th>session_id</th>\n",
              "      <th>session_start</th>\n",
              "      <th>session_size</th>\n",
              "      <th>article_id</th>\n",
              "      <th>click_timestamp</th>\n",
              "      <th>filename</th>\n",
              "    </tr>\n",
              "  </thead>\n",
              "  <tbody>\n",
              "    <tr>\n",
              "      <th>0</th>\n",
              "      <td>0</td>\n",
              "      <td>1506825423271737</td>\n",
              "      <td>1506825423000000000</td>\n",
              "      <td>2</td>\n",
              "      <td>157541</td>\n",
              "      <td>1506826828020000000</td>\n",
              "      <td>0</td>\n",
              "    </tr>\n",
              "    <tr>\n",
              "      <th>1</th>\n",
              "      <td>0</td>\n",
              "      <td>1506825423271737</td>\n",
              "      <td>1506825423000000000</td>\n",
              "      <td>2</td>\n",
              "      <td>68866</td>\n",
              "      <td>1506826858020000000</td>\n",
              "      <td>0</td>\n",
              "    </tr>\n",
              "    <tr>\n",
              "      <th>2</th>\n",
              "      <td>1</td>\n",
              "      <td>1506825426267738</td>\n",
              "      <td>1506825426000000000</td>\n",
              "      <td>2</td>\n",
              "      <td>235840</td>\n",
              "      <td>1506827017951000000</td>\n",
              "      <td>0</td>\n",
              "    </tr>\n",
              "    <tr>\n",
              "      <th>3</th>\n",
              "      <td>1</td>\n",
              "      <td>1506825426267738</td>\n",
              "      <td>1506825426000000000</td>\n",
              "      <td>2</td>\n",
              "      <td>96663</td>\n",
              "      <td>1506827047951000000</td>\n",
              "      <td>0</td>\n",
              "    </tr>\n",
              "    <tr>\n",
              "      <th>4</th>\n",
              "      <td>2</td>\n",
              "      <td>1506825435299739</td>\n",
              "      <td>1506825435000000000</td>\n",
              "      <td>2</td>\n",
              "      <td>119592</td>\n",
              "      <td>1506827090575000000</td>\n",
              "      <td>0</td>\n",
              "    </tr>\n",
              "  </tbody>\n",
              "</table>\n",
              "</div>"
            ],
            "text/plain": [
              "   user_id        session_id        session_start  session_size  article_id  \\\n",
              "0        0  1506825423271737  1506825423000000000             2      157541   \n",
              "1        0  1506825423271737  1506825423000000000             2       68866   \n",
              "2        1  1506825426267738  1506825426000000000             2      235840   \n",
              "3        1  1506825426267738  1506825426000000000             2       96663   \n",
              "4        2  1506825435299739  1506825435000000000             2      119592   \n",
              "\n",
              "       click_timestamp  filename  \n",
              "0  1506826828020000000         0  \n",
              "1  1506826858020000000         0  \n",
              "2  1506827017951000000         0  \n",
              "3  1506827047951000000         0  \n",
              "4  1506827090575000000         0  "
            ]
          },
          "execution_count": 8,
          "metadata": {},
          "output_type": "execute_result"
        }
      ],
      "source": [
        "clicks.head()"
      ]
    },
    {
      "cell_type": "markdown",
      "metadata": {
        "id": "2dPwcQ-l5KkN"
      },
      "source": [
        "## 2.2. Dataset d'articles"
      ]
    },
    {
      "cell_type": "code",
      "execution_count": 9,
      "metadata": {
        "execution": {
          "iopub.execute_input": "2022-11-13T15:25:28.565208Z",
          "iopub.status.busy": "2022-11-13T15:25:28.564739Z",
          "iopub.status.idle": "2022-11-13T15:25:28.583586Z",
          "shell.execute_reply": "2022-11-13T15:25:28.582212Z",
          "shell.execute_reply.started": "2022-11-13T15:25:28.565172Z"
        },
        "id": "xlNmlxFo5KkN",
        "trusted": true
      },
      "outputs": [
        {
          "name": "stdout",
          "output_type": "stream",
          "text": [
            "Articles Dataframe shape:  (364047, 4)\n"
          ]
        },
        {
          "data": {
            "text/html": [
              "<div>\n",
              "<style scoped>\n",
              "    .dataframe tbody tr th:only-of-type {\n",
              "        vertical-align: middle;\n",
              "    }\n",
              "\n",
              "    .dataframe tbody tr th {\n",
              "        vertical-align: top;\n",
              "    }\n",
              "\n",
              "    .dataframe thead th {\n",
              "        text-align: right;\n",
              "    }\n",
              "</style>\n",
              "<table border=\"1\" class=\"dataframe\">\n",
              "  <thead>\n",
              "    <tr style=\"text-align: right;\">\n",
              "      <th></th>\n",
              "      <th>article_id</th>\n",
              "      <th>category_id</th>\n",
              "      <th>created_at_ts</th>\n",
              "      <th>words_count</th>\n",
              "    </tr>\n",
              "  </thead>\n",
              "  <tbody>\n",
              "    <tr>\n",
              "      <th>0</th>\n",
              "      <td>0</td>\n",
              "      <td>0</td>\n",
              "      <td>1513123200000000000</td>\n",
              "      <td>168</td>\n",
              "    </tr>\n",
              "    <tr>\n",
              "      <th>1</th>\n",
              "      <td>1</td>\n",
              "      <td>1</td>\n",
              "      <td>1405296000000000000</td>\n",
              "      <td>189</td>\n",
              "    </tr>\n",
              "    <tr>\n",
              "      <th>2</th>\n",
              "      <td>2</td>\n",
              "      <td>1</td>\n",
              "      <td>1408665600000000000</td>\n",
              "      <td>250</td>\n",
              "    </tr>\n",
              "    <tr>\n",
              "      <th>3</th>\n",
              "      <td>3</td>\n",
              "      <td>1</td>\n",
              "      <td>1408406400000000000</td>\n",
              "      <td>230</td>\n",
              "    </tr>\n",
              "    <tr>\n",
              "      <th>4</th>\n",
              "      <td>4</td>\n",
              "      <td>1</td>\n",
              "      <td>1407024000000000000</td>\n",
              "      <td>162</td>\n",
              "    </tr>\n",
              "  </tbody>\n",
              "</table>\n",
              "</div>"
            ],
            "text/plain": [
              "   article_id  category_id        created_at_ts  words_count\n",
              "0           0            0  1513123200000000000          168\n",
              "1           1            1  1405296000000000000          189\n",
              "2           2            1  1408665600000000000          250\n",
              "3           3            1  1408406400000000000          230\n",
              "4           4            1  1407024000000000000          162"
            ]
          },
          "execution_count": 9,
          "metadata": {},
          "output_type": "execute_result"
        }
      ],
      "source": [
        "# Display DF shape and 5 first rows\n",
        "print('Articles Dataframe shape: ', articles.shape)\n",
        "clicks[clicks[\"article_id\"] == 157541]\n",
        "\n",
        "articles.head()"
      ]
    },
    {
      "cell_type": "markdown",
      "metadata": {
        "id": "OuVMxZ4f5KkN"
      },
      "source": [
        "## 2.3. Dataset Embeddings"
      ]
    },
    {
      "cell_type": "code",
      "execution_count": 10,
      "metadata": {
        "execution": {
          "iopub.execute_input": "2022-11-13T15:25:31.730342Z",
          "iopub.status.busy": "2022-11-13T15:25:31.729927Z",
          "iopub.status.idle": "2022-11-13T15:25:31.761694Z",
          "shell.execute_reply": "2022-11-13T15:25:31.760822Z",
          "shell.execute_reply.started": "2022-11-13T15:25:31.73031Z"
        },
        "id": "ORVTiLVh5KkN",
        "trusted": true
      },
      "outputs": [
        {
          "name": "stdout",
          "output_type": "stream",
          "text": [
            "Embedding Matrix shape:  (364047, 250)\n"
          ]
        },
        {
          "data": {
            "text/html": [
              "<div>\n",
              "<style scoped>\n",
              "    .dataframe tbody tr th:only-of-type {\n",
              "        vertical-align: middle;\n",
              "    }\n",
              "\n",
              "    .dataframe tbody tr th {\n",
              "        vertical-align: top;\n",
              "    }\n",
              "\n",
              "    .dataframe thead th {\n",
              "        text-align: right;\n",
              "    }\n",
              "</style>\n",
              "<table border=\"1\" class=\"dataframe\">\n",
              "  <thead>\n",
              "    <tr style=\"text-align: right;\">\n",
              "      <th></th>\n",
              "      <th>0</th>\n",
              "      <th>1</th>\n",
              "      <th>2</th>\n",
              "      <th>3</th>\n",
              "      <th>4</th>\n",
              "      <th>5</th>\n",
              "      <th>6</th>\n",
              "      <th>7</th>\n",
              "      <th>8</th>\n",
              "      <th>9</th>\n",
              "      <th>...</th>\n",
              "      <th>240</th>\n",
              "      <th>241</th>\n",
              "      <th>242</th>\n",
              "      <th>243</th>\n",
              "      <th>244</th>\n",
              "      <th>245</th>\n",
              "      <th>246</th>\n",
              "      <th>247</th>\n",
              "      <th>248</th>\n",
              "      <th>249</th>\n",
              "    </tr>\n",
              "  </thead>\n",
              "  <tbody>\n",
              "    <tr>\n",
              "      <th>0</th>\n",
              "      <td>-0.161183</td>\n",
              "      <td>-0.957233</td>\n",
              "      <td>-0.137944</td>\n",
              "      <td>0.050855</td>\n",
              "      <td>0.830055</td>\n",
              "      <td>0.901365</td>\n",
              "      <td>-0.335148</td>\n",
              "      <td>-0.559561</td>\n",
              "      <td>-0.500603</td>\n",
              "      <td>0.165183</td>\n",
              "      <td>...</td>\n",
              "      <td>0.321248</td>\n",
              "      <td>0.313999</td>\n",
              "      <td>0.636412</td>\n",
              "      <td>0.169179</td>\n",
              "      <td>0.540524</td>\n",
              "      <td>-0.813182</td>\n",
              "      <td>0.286870</td>\n",
              "      <td>-0.231686</td>\n",
              "      <td>0.597416</td>\n",
              "      <td>0.409623</td>\n",
              "    </tr>\n",
              "    <tr>\n",
              "      <th>1</th>\n",
              "      <td>-0.523216</td>\n",
              "      <td>-0.974058</td>\n",
              "      <td>0.738608</td>\n",
              "      <td>0.155234</td>\n",
              "      <td>0.626294</td>\n",
              "      <td>0.485297</td>\n",
              "      <td>-0.715657</td>\n",
              "      <td>-0.897996</td>\n",
              "      <td>-0.359747</td>\n",
              "      <td>0.398246</td>\n",
              "      <td>...</td>\n",
              "      <td>-0.487843</td>\n",
              "      <td>0.823124</td>\n",
              "      <td>0.412688</td>\n",
              "      <td>-0.338654</td>\n",
              "      <td>0.320787</td>\n",
              "      <td>0.588643</td>\n",
              "      <td>-0.594137</td>\n",
              "      <td>0.182828</td>\n",
              "      <td>0.397090</td>\n",
              "      <td>-0.834364</td>\n",
              "    </tr>\n",
              "    <tr>\n",
              "      <th>2</th>\n",
              "      <td>-0.619619</td>\n",
              "      <td>-0.972960</td>\n",
              "      <td>-0.207360</td>\n",
              "      <td>-0.128861</td>\n",
              "      <td>0.044748</td>\n",
              "      <td>-0.387535</td>\n",
              "      <td>-0.730477</td>\n",
              "      <td>-0.066126</td>\n",
              "      <td>-0.754899</td>\n",
              "      <td>-0.242004</td>\n",
              "      <td>...</td>\n",
              "      <td>0.454756</td>\n",
              "      <td>0.473184</td>\n",
              "      <td>0.377866</td>\n",
              "      <td>-0.863887</td>\n",
              "      <td>-0.383365</td>\n",
              "      <td>0.137721</td>\n",
              "      <td>-0.810877</td>\n",
              "      <td>-0.447580</td>\n",
              "      <td>0.805932</td>\n",
              "      <td>-0.285284</td>\n",
              "    </tr>\n",
              "    <tr>\n",
              "      <th>3</th>\n",
              "      <td>-0.740843</td>\n",
              "      <td>-0.975749</td>\n",
              "      <td>0.391698</td>\n",
              "      <td>0.641738</td>\n",
              "      <td>-0.268645</td>\n",
              "      <td>0.191745</td>\n",
              "      <td>-0.825593</td>\n",
              "      <td>-0.710591</td>\n",
              "      <td>-0.040099</td>\n",
              "      <td>-0.110514</td>\n",
              "      <td>...</td>\n",
              "      <td>0.271535</td>\n",
              "      <td>0.036040</td>\n",
              "      <td>0.480029</td>\n",
              "      <td>-0.763173</td>\n",
              "      <td>0.022627</td>\n",
              "      <td>0.565165</td>\n",
              "      <td>-0.910286</td>\n",
              "      <td>-0.537838</td>\n",
              "      <td>0.243541</td>\n",
              "      <td>-0.885329</td>\n",
              "    </tr>\n",
              "    <tr>\n",
              "      <th>4</th>\n",
              "      <td>-0.279052</td>\n",
              "      <td>-0.972315</td>\n",
              "      <td>0.685374</td>\n",
              "      <td>0.113056</td>\n",
              "      <td>0.238315</td>\n",
              "      <td>0.271913</td>\n",
              "      <td>-0.568816</td>\n",
              "      <td>0.341194</td>\n",
              "      <td>-0.600554</td>\n",
              "      <td>-0.125644</td>\n",
              "      <td>...</td>\n",
              "      <td>0.238286</td>\n",
              "      <td>0.809268</td>\n",
              "      <td>0.427521</td>\n",
              "      <td>-0.615932</td>\n",
              "      <td>-0.503697</td>\n",
              "      <td>0.614450</td>\n",
              "      <td>-0.917760</td>\n",
              "      <td>-0.424061</td>\n",
              "      <td>0.185484</td>\n",
              "      <td>-0.580292</td>\n",
              "    </tr>\n",
              "  </tbody>\n",
              "</table>\n",
              "<p>5 rows × 250 columns</p>\n",
              "</div>"
            ],
            "text/plain": [
              "        0         1         2         3         4         5         6    \\\n",
              "0 -0.161183 -0.957233 -0.137944  0.050855  0.830055  0.901365 -0.335148   \n",
              "1 -0.523216 -0.974058  0.738608  0.155234  0.626294  0.485297 -0.715657   \n",
              "2 -0.619619 -0.972960 -0.207360 -0.128861  0.044748 -0.387535 -0.730477   \n",
              "3 -0.740843 -0.975749  0.391698  0.641738 -0.268645  0.191745 -0.825593   \n",
              "4 -0.279052 -0.972315  0.685374  0.113056  0.238315  0.271913 -0.568816   \n",
              "\n",
              "        7         8         9    ...       240       241       242       243  \\\n",
              "0 -0.559561 -0.500603  0.165183  ...  0.321248  0.313999  0.636412  0.169179   \n",
              "1 -0.897996 -0.359747  0.398246  ... -0.487843  0.823124  0.412688 -0.338654   \n",
              "2 -0.066126 -0.754899 -0.242004  ...  0.454756  0.473184  0.377866 -0.863887   \n",
              "3 -0.710591 -0.040099 -0.110514  ...  0.271535  0.036040  0.480029 -0.763173   \n",
              "4  0.341194 -0.600554 -0.125644  ...  0.238286  0.809268  0.427521 -0.615932   \n",
              "\n",
              "        244       245       246       247       248       249  \n",
              "0  0.540524 -0.813182  0.286870 -0.231686  0.597416  0.409623  \n",
              "1  0.320787  0.588643 -0.594137  0.182828  0.397090 -0.834364  \n",
              "2 -0.383365  0.137721 -0.810877 -0.447580  0.805932 -0.285284  \n",
              "3  0.022627  0.565165 -0.910286 -0.537838  0.243541 -0.885329  \n",
              "4 -0.503697  0.614450 -0.917760 -0.424061  0.185484 -0.580292  \n",
              "\n",
              "[5 rows x 250 columns]"
            ]
          },
          "execution_count": 10,
          "metadata": {},
          "output_type": "execute_result"
        }
      ],
      "source": [
        "df_embeddings = pd.DataFrame(embeddings)\n",
        "print('Embedding Matrix shape: ', embeddings.shape)\n",
        "df_embeddings.head()"
      ]
    },
    {
      "cell_type": "markdown",
      "metadata": {
        "id": "jMYYer8b5KkN"
      },
      "source": [
        "## 2.4. Valeur unique"
      ]
    },
    {
      "cell_type": "code",
      "execution_count": 11,
      "metadata": {
        "execution": {
          "iopub.execute_input": "2022-11-13T15:25:34.535096Z",
          "iopub.status.busy": "2022-11-13T15:25:34.534655Z",
          "iopub.status.idle": "2022-11-13T15:25:34.618368Z",
          "shell.execute_reply": "2022-11-13T15:25:34.617135Z",
          "shell.execute_reply.started": "2022-11-13T15:25:34.53506Z"
        },
        "id": "N4ESEUgr5KkN",
        "trusted": true
      },
      "outputs": [
        {
          "name": "stdout",
          "output_type": "stream",
          "text": [
            "Nombre utilisateur unique :  322897\n",
            "Nombre article unique :  364047\n",
            "Nombre articles lus par les utilisateurs :  46033\n"
          ]
        }
      ],
      "source": [
        "print('Nombre utilisateur unique : ', clicks.user_id.nunique())\n",
        "print('Nombre article unique : ', articles.article_id.nunique())\n",
        "print('Nombre articles lus par les utilisateurs : ', clicks.article_id.nunique())"
      ]
    },
    {
      "cell_type": "markdown",
      "metadata": {
        "id": "s8RWDb4k5KkN"
      },
      "source": [
        "# 3. Modèle de recommandation via la popularité."
      ]
    },
    {
      "cell_type": "markdown",
      "metadata": {
        "id": "zFEAAv8K5KkN"
      },
      "source": [
        "Il s'agit d'un système de recommandation basé sur la popularité et/ou les tendances. Ces systèmes identifient les produits ou les films les plus populaires auprès des utilisateurs et les recommandent directement.\n",
        "\n",
        "Par exemple, si un produit est fréquemment acheté par la plupart des utilisateurs, le système identifiera qu'il est le plus populaire. Ainsi, pour chaque nouvel utilisateur qui s'inscrit, le système le recommandera également, ce qui augmente les chances qu'il l'achète également."
      ]
    },
    {
      "cell_type": "code",
      "execution_count": 12,
      "metadata": {
        "execution": {
          "iopub.execute_input": "2022-11-13T15:25:37.290022Z",
          "iopub.status.busy": "2022-11-13T15:25:37.289306Z",
          "iopub.status.idle": "2022-11-13T15:25:37.297184Z",
          "shell.execute_reply": "2022-11-13T15:25:37.295988Z",
          "shell.execute_reply.started": "2022-11-13T15:25:37.289973Z"
        },
        "id": "SWYRDP8O5KkN",
        "trusted": true
      },
      "outputs": [],
      "source": [
        "def get_popularity_rec(clicks, n_reco=5):\n",
        "    df_popularity = clicks.groupby(by=['article_id'])['click_timestamp'].count().sort_values(ascending=False).reset_index()\n",
        "    df_popularity.rename(columns = {'user_id':'popularity'}, inplace=True)\n",
        "    return df_popularity.article_id.head(n_reco).to_list()"
      ]
    },
    {
      "cell_type": "code",
      "execution_count": 13,
      "metadata": {
        "execution": {
          "iopub.execute_input": "2022-11-13T15:25:41.955181Z",
          "iopub.status.busy": "2022-11-13T15:25:41.954743Z",
          "iopub.status.idle": "2022-11-13T15:25:42.046126Z",
          "shell.execute_reply": "2022-11-13T15:25:42.044987Z",
          "shell.execute_reply.started": "2022-11-13T15:25:41.955149Z"
        },
        "id": "8lytx-y55KkO",
        "trusted": true
      },
      "outputs": [
        {
          "data": {
            "text/plain": [
              "[160974, 272143, 336221, 234698, 123909]"
            ]
          },
          "execution_count": 13,
          "metadata": {},
          "output_type": "execute_result"
        }
      ],
      "source": [
        "get_popularity_rec(clicks, n_reco=5)"
      ]
    },
    {
      "cell_type": "markdown",
      "metadata": {
        "id": "LdR-LRlx5KkO"
      },
      "source": [
        "# 4. Modèle basé sur la popularité"
      ]
    },
    {
      "cell_type": "markdown",
      "metadata": {
        "id": "Wl5iUnE95KkO"
      },
      "source": [
        "Le filtrage par contenu est un système de recommandation qui propose des articles similaires à ceux déjà consultés par l'utilisateur.\n",
        "\n",
        "**Principe** :\n",
        "\n",
        "* À partir des descriptions des articles choisis ou notés par un utilisateur, un profil utilisateur est construit ;\n",
        "* Les articles dont les caractéristiques sont similaires à son profil sont recommandés.\n",
        "* Moins un utilisateur a choisi ou noté d'articles, moins le profil obtenu est fiable, et donc les recommandations formulées sur cette base.\n",
        "* Ce système repose donc sur l'historique de l'utilisateur et l'accès aux descriptions des articles est essentiel : si l'utilisateur A a lu deux articles sur les chats, le système peut lui recommander d'autres articles sur les animaux de compagnie.\n",
        "\n",
        "**Inconvénients** :\n",
        "\n",
        "* S'il est facile d'identifier des articles de substitution, il est évidemment difficile d'extrapoler d'un domaine à l'autre."
      ]
    },
    {
      "cell_type": "code",
      "execution_count": 14,
      "metadata": {
        "execution": {
          "iopub.execute_input": "2022-11-13T15:25:47.357132Z",
          "iopub.status.busy": "2022-11-13T15:25:47.356673Z",
          "iopub.status.idle": "2022-11-13T15:25:47.900877Z",
          "shell.execute_reply": "2022-11-13T15:25:47.899645Z",
          "shell.execute_reply.started": "2022-11-13T15:25:47.357053Z"
        },
        "id": "EFAPrYmG5KkO",
        "trusted": true
      },
      "outputs": [],
      "source": [
        "import pandas as pd\n",
        "import numpy as np\n",
        "from time import time\n",
        "from random import randint\n",
        "from sklearn.metrics.pairwise import cosine_similarity\n",
        "\n",
        "def get_cb_reco(userID, clicks, embeddings, n_reco=5):\n",
        "    '''Return 5 recommended articles ID to user'''\n",
        "    print('User ID is : ', userID)\n",
        "    var = clicks.loc[clicks.user_id == userID]['article_id'].to_list()\n",
        "    value = var[-1]\n",
        "    print('The last article read by the user is: ', value)\n",
        "\n",
        "    emb = embeddings\n",
        "    for i in range (0, len(var)):\n",
        "        if i != value:\n",
        "            emb = np.delete(emb, [i], 0)\n",
        "\n",
        "    temp = np.delete(emb, [value], 0)\n",
        "    distances = cosine_similarity([emb[value]], temp)[0]\n",
        "\n",
        "    ranked_ids = np.argsort(distances)[::-1][0:n_reco]\n",
        "    ranked_similarities = np.sort(distances)[::-1][0:n_reco]\n",
        "    print('Recommended articles are: ')\n",
        "\n",
        "    return ranked_ids.tolist()"
      ]
    },
    {
      "cell_type": "code",
      "execution_count": 15,
      "metadata": {
        "execution": {
          "iopub.execute_input": "2022-11-13T15:25:51.847504Z",
          "iopub.status.busy": "2022-11-13T15:25:51.846355Z",
          "iopub.status.idle": "2022-11-13T15:25:53.629575Z",
          "shell.execute_reply": "2022-11-13T15:25:53.628368Z",
          "shell.execute_reply.started": "2022-11-13T15:25:51.847457Z"
        },
        "id": "LdIdqZ6m5KkO",
        "trusted": true
      },
      "outputs": [
        {
          "name": "stdout",
          "output_type": "stream",
          "text": [
            "User ID is :  0\n",
            "The last article read by the user is:  87205\n",
            "Recommended articles are: \n",
            "[102720, 100020, 102412, 102611, 86703]\n",
            "Model execution time : 0.85s\n"
          ]
        }
      ],
      "source": [
        "start = time()\n",
        "userID = 0\n",
        "reco = get_cb_reco(userID, clicks, embeddings, n_reco=5)\n",
        "print(reco)\n",
        "print(f'Model execution time : {round(time() - start, 2)}s')"
      ]
    },
    {
      "cell_type": "markdown",
      "metadata": {
        "id": "uMpDJyku5KkO"
      },
      "source": [
        "# 4. Modèle de filtrage collaboratif"
      ]
    },
    {
      "cell_type": "markdown",
      "metadata": {
        "id": "78gVMpD75KkO"
      },
      "source": [
        "## 4.1 Concept de bases"
      ]
    },
    {
      "cell_type": "markdown",
      "metadata": {
        "id": "pqdwAu235KkO"
      },
      "source": [
        "**Le filtrage collaboratif** est un système de recommandation qui tente de prédire les préférences d'un utilisateur en fonction des préférences similaires d'autres utilisateurs.\n",
        "\n",
        "Cette approche repose uniquement sur la matrice utilisateur-item ; aucune connaissance intrinsèque des articles n'est nécessaire.\n",
        "\n",
        "**Principe :**\n",
        "* Proposer à un utilisateur des articles similaires à ceux qu'il a déjà choisis (ou notés) OU proposer à un utilisateur des articles choisis (ou notés) par des utilisateurs similaires.\n",
        "* Ce système se base donc à la fois sur la similarité entre articles et entre utilisateurs pour formuler ses recommandations : si l'utilisateur A est similaire à l'utilisateur B, et que ce dernier a lu l'article 1, le système peut recommander l'article 1 à l'utilisateur A même s'il n'a jamais consulté d'articles similaires.\n",
        "\n",
        "**Inconvénients :**\n",
        "En revanche, s'il n'y a pas de scellement entre les domaines, la méconnaissance des caractéristiques des articles rend difficile la substitution des articles manquants."
      ]
    },
    {
      "cell_type": "markdown",
      "metadata": {
        "id": "glzcD5LW5KkO"
      },
      "source": [
        "## 4.2 Metriques d'évaluation"
      ]
    },
    {
      "cell_type": "markdown",
      "metadata": {
        "id": "Xo_FlS285KkO"
      },
      "source": [
        "Il existe différentes approches pour évaluer les performances des modèles, ainsi que des indicateurs spécifiques à chaque approche :\n",
        "1. **Indicateurs de notation** : Ces indicateurs permettent d’évaluer la précision d’un système de recommandation dans la prédiction des notes attribuées aux produits par les utilisateurs.\n",
        "* ***Erreur quadratique moyenne (RMSE)*** : mesure de l’erreur moyenne des notes prédites.\n",
        "* ***R² (R<sup>2</sup>)*** : mesure de la variation totale expliquée par le modèle.\n",
        "* ***Erreur absolue moyenne (MAE)*** : similaire à la RMSE, mais utilisant la valeur absolue plutôt que le carré et la racine carrée de la moyenne.\n",
        "* ***Variance expliquée*** : mesure de la variance des données expliquée par le modèle.\n",
        "2. **Indicateurs de classement** : Ces indicateurs permettent d’évaluer l’intérêt des recommandations pour les utilisateurs. * ***Précision*** - mesure la proportion de produits recommandés intéressants\n",
        "* ***Rappel*** - mesure la proportion de produits intéressants recommandés\n",
        "* ***Gain cumulé actualisé normalisé (NDCG)*** - évalue le classement des produits recommandés à un utilisateur en fonction de leur parité\n",
        "* ***Précision moyenne (MAP)*** - précision moyenne pour chaque utilisateur normalisée sur l'ensemble des utilisateurs\n",
        "3. **Indicateurs de non-exactitude** : Ces indicateurs ne comparent pas les prédictions aux valeurs réelles, mais évaluent les propriétés des recommandations suivantes :\n",
        "* ***Nouveauté*** - mesure la fréquence de recommandation des nouveaux produits par les utilisateurs\n",
        "* ***Diversité*** - mesure la différence entre les produits d'un ensemble\n",
        "* ***Sérendipité*** - mesure le degré de surprise des recommandations faites à un utilisateur spécifique en les comparant aux produits avec lesquels il a déjà interagi\n",
        "* ***Couverture*** - mesure de la distribution des produits recommandés par le système"
      ]
    },
    {
      "cell_type": "markdown",
      "metadata": {
        "id": "KRb6OjLZ5KkP"
      },
      "source": [
        "Dans notre cas, nous utiliserons des mesures de classement, à savoir : Précision, NDCG et MAP."
      ]
    },
    {
      "cell_type": "markdown",
      "metadata": {
        "id": "OlEDf1nv5KkP"
      },
      "source": [
        "## 4.3 Preparation des données"
      ]
    },
    {
      "cell_type": "markdown",
      "metadata": {
        "id": "I7Gn04-k5KkP"
      },
      "source": [
        "Tout d'abord, il faut savoir si l'utilisateur a aimé ou non l'article qu'il a lu. Pour cela, il existe deux façons de le savoir :\n",
        "1. **Explicitement** : une note (binaire ou non)\n",
        "2. **Implicitement** : nombre de clics, temps passé sur la page, vidéo lue jusqu'à la fin, article parcouru jusqu'à la fin, etc.\n",
        "\n",
        "Dans notre cas, nous utiliserons un score implicite : le nombre de clics par article pondéré par le nombre total de clics par utilisateur."
      ]
    },
    {
      "cell_type": "markdown",
      "metadata": {
        "id": "0taQC6uV5KkP"
      },
      "source": [
        "Créons une fonction qui calculera les notes implicites"
      ]
    },
    {
      "cell_type": "code",
      "execution_count": 16,
      "metadata": {
        "execution": {
          "iopub.execute_input": "2022-11-13T15:26:00.409117Z",
          "iopub.status.busy": "2022-11-13T15:26:00.4085Z",
          "iopub.status.idle": "2022-11-13T15:26:00.42053Z",
          "shell.execute_reply": "2022-11-13T15:26:00.418893Z",
          "shell.execute_reply.started": "2022-11-13T15:26:00.409065Z"
        },
        "id": "RtpX1zBw5KkS",
        "trusted": true
      },
      "outputs": [],
      "source": [
        "def get_ratings(clicks):\n",
        "    count_clicks_by_articles_by_user = clicks.groupby([\"user_id\", \"article_id\"]).agg(count_clicks_by_articles_by_user=(\"session_id\", \"count\"))\n",
        "    count_clicks_by_user = clicks.groupby([\"user_id\"]).agg(count_clicks_by_user=(\"session_id\", \"count\"))\n",
        "    clicks_count = count_clicks_by_articles_by_user.join(count_clicks_by_user, on=\"user_id\")\n",
        "    clicks_count['rating'] = clicks_count[\"count_clicks_by_articles_by_user\"] / clicks_count[\"count_clicks_by_user\"]\n",
        "    ratings = clicks_count.reset_index().drop([\"count_clicks_by_articles_by_user\",\"count_clicks_by_user\"], axis=1).rename(columns={\"click_article_id\":\"article_id\"})\n",
        "    return ratings"
      ]
    },
    {
      "cell_type": "code",
      "execution_count": 17,
      "metadata": {
        "execution": {
          "iopub.execute_input": "2022-11-13T15:26:11.193472Z",
          "iopub.status.busy": "2022-11-13T15:26:11.193062Z",
          "iopub.status.idle": "2022-11-13T15:26:13.420894Z",
          "shell.execute_reply": "2022-11-13T15:26:13.419802Z",
          "shell.execute_reply.started": "2022-11-13T15:26:11.193437Z"
        },
        "id": "-I2WKZi15KkS",
        "trusted": true
      },
      "outputs": [
        {
          "data": {
            "text/html": [
              "<div>\n",
              "<style scoped>\n",
              "    .dataframe tbody tr th:only-of-type {\n",
              "        vertical-align: middle;\n",
              "    }\n",
              "\n",
              "    .dataframe tbody tr th {\n",
              "        vertical-align: top;\n",
              "    }\n",
              "\n",
              "    .dataframe thead th {\n",
              "        text-align: right;\n",
              "    }\n",
              "</style>\n",
              "<table border=\"1\" class=\"dataframe\">\n",
              "  <thead>\n",
              "    <tr style=\"text-align: right;\">\n",
              "      <th></th>\n",
              "      <th>user_id</th>\n",
              "      <th>article_id</th>\n",
              "      <th>rating</th>\n",
              "    </tr>\n",
              "  </thead>\n",
              "  <tbody>\n",
              "    <tr>\n",
              "      <th>0</th>\n",
              "      <td>0</td>\n",
              "      <td>68866</td>\n",
              "      <td>0.125</td>\n",
              "    </tr>\n",
              "    <tr>\n",
              "      <th>1</th>\n",
              "      <td>0</td>\n",
              "      <td>87205</td>\n",
              "      <td>0.125</td>\n",
              "    </tr>\n",
              "    <tr>\n",
              "      <th>2</th>\n",
              "      <td>0</td>\n",
              "      <td>87224</td>\n",
              "      <td>0.125</td>\n",
              "    </tr>\n",
              "    <tr>\n",
              "      <th>3</th>\n",
              "      <td>0</td>\n",
              "      <td>96755</td>\n",
              "      <td>0.125</td>\n",
              "    </tr>\n",
              "    <tr>\n",
              "      <th>4</th>\n",
              "      <td>0</td>\n",
              "      <td>157541</td>\n",
              "      <td>0.125</td>\n",
              "    </tr>\n",
              "    <tr>\n",
              "      <th>...</th>\n",
              "      <td>...</td>\n",
              "      <td>...</td>\n",
              "      <td>...</td>\n",
              "    </tr>\n",
              "    <tr>\n",
              "      <th>2950705</th>\n",
              "      <td>322894</td>\n",
              "      <td>168401</td>\n",
              "      <td>0.500</td>\n",
              "    </tr>\n",
              "    <tr>\n",
              "      <th>2950706</th>\n",
              "      <td>322895</td>\n",
              "      <td>63746</td>\n",
              "      <td>0.500</td>\n",
              "    </tr>\n",
              "    <tr>\n",
              "      <th>2950707</th>\n",
              "      <td>322895</td>\n",
              "      <td>289197</td>\n",
              "      <td>0.500</td>\n",
              "    </tr>\n",
              "    <tr>\n",
              "      <th>2950708</th>\n",
              "      <td>322896</td>\n",
              "      <td>30760</td>\n",
              "      <td>0.500</td>\n",
              "    </tr>\n",
              "    <tr>\n",
              "      <th>2950709</th>\n",
              "      <td>322896</td>\n",
              "      <td>157507</td>\n",
              "      <td>0.500</td>\n",
              "    </tr>\n",
              "  </tbody>\n",
              "</table>\n",
              "<p>2950710 rows × 3 columns</p>\n",
              "</div>"
            ],
            "text/plain": [
              "         user_id  article_id  rating\n",
              "0              0       68866   0.125\n",
              "1              0       87205   0.125\n",
              "2              0       87224   0.125\n",
              "3              0       96755   0.125\n",
              "4              0      157541   0.125\n",
              "...          ...         ...     ...\n",
              "2950705   322894      168401   0.500\n",
              "2950706   322895       63746   0.500\n",
              "2950707   322895      289197   0.500\n",
              "2950708   322896       30760   0.500\n",
              "2950709   322896      157507   0.500\n",
              "\n",
              "[2950710 rows x 3 columns]"
            ]
          },
          "execution_count": 17,
          "metadata": {},
          "output_type": "execute_result"
        }
      ],
      "source": [
        "ratings = get_ratings(clicks)\n",
        "ratings"
      ]
    },
    {
      "cell_type": "markdown",
      "metadata": {
        "id": "drcdA7st5KkS"
      },
      "source": [
        "Maintenant que nous avons la note de chaque article que l'utilisateur a lu, nous allons simplement comparer différents modèles et conserver le plus performant."
      ]
    },
    {
      "cell_type": "markdown",
      "metadata": {
        "id": "hXHZZN1E5KkS"
      },
      "source": [
        "## 4.4 Échantillonnage de la base de données de notation (si nécessaire)"
      ]
    },
    {
      "cell_type": "code",
      "execution_count": 18,
      "metadata": {
        "execution": {
          "iopub.execute_input": "2022-11-13T15:26:17.373487Z",
          "iopub.status.busy": "2022-11-13T15:26:17.373072Z",
          "iopub.status.idle": "2022-11-13T15:26:17.378758Z",
          "shell.execute_reply": "2022-11-13T15:26:17.377557Z",
          "shell.execute_reply.started": "2022-11-13T15:26:17.373454Z"
        },
        "id": "r_k48Av25KkS",
        "trusted": true
      },
      "outputs": [],
      "source": [
        "SAMPLE_RATIO = 0.005"
      ]
    },
    {
      "cell_type": "code",
      "execution_count": 19,
      "metadata": {
        "execution": {
          "iopub.execute_input": "2022-11-13T15:26:19.090946Z",
          "iopub.status.busy": "2022-11-13T15:26:19.090526Z",
          "iopub.status.idle": "2022-11-13T15:26:19.249586Z",
          "shell.execute_reply": "2022-11-13T15:26:19.248241Z",
          "shell.execute_reply.started": "2022-11-13T15:26:19.090897Z"
        },
        "id": "7V_tNLdH5KkS",
        "trusted": true
      },
      "outputs": [
        {
          "data": {
            "text/html": [
              "<div>\n",
              "<style scoped>\n",
              "    .dataframe tbody tr th:only-of-type {\n",
              "        vertical-align: middle;\n",
              "    }\n",
              "\n",
              "    .dataframe tbody tr th {\n",
              "        vertical-align: top;\n",
              "    }\n",
              "\n",
              "    .dataframe thead th {\n",
              "        text-align: right;\n",
              "    }\n",
              "</style>\n",
              "<table border=\"1\" class=\"dataframe\">\n",
              "  <thead>\n",
              "    <tr style=\"text-align: right;\">\n",
              "      <th></th>\n",
              "      <th>user_id</th>\n",
              "      <th>article_id</th>\n",
              "      <th>rating</th>\n",
              "    </tr>\n",
              "  </thead>\n",
              "  <tbody>\n",
              "    <tr>\n",
              "      <th>2936274</th>\n",
              "      <td>317101</td>\n",
              "      <td>199393</td>\n",
              "      <td>0.500000</td>\n",
              "    </tr>\n",
              "    <tr>\n",
              "      <th>1620248</th>\n",
              "      <td>99395</td>\n",
              "      <td>59758</td>\n",
              "      <td>0.500000</td>\n",
              "    </tr>\n",
              "    <tr>\n",
              "      <th>612201</th>\n",
              "      <td>31691</td>\n",
              "      <td>293050</td>\n",
              "      <td>0.016393</td>\n",
              "    </tr>\n",
              "    <tr>\n",
              "      <th>1525674</th>\n",
              "      <td>90863</td>\n",
              "      <td>32750</td>\n",
              "      <td>0.076923</td>\n",
              "    </tr>\n",
              "    <tr>\n",
              "      <th>1100500</th>\n",
              "      <td>60312</td>\n",
              "      <td>236524</td>\n",
              "      <td>0.050000</td>\n",
              "    </tr>\n",
              "    <tr>\n",
              "      <th>...</th>\n",
              "      <td>...</td>\n",
              "      <td>...</td>\n",
              "      <td>...</td>\n",
              "    </tr>\n",
              "    <tr>\n",
              "      <th>2335685</th>\n",
              "      <td>182016</td>\n",
              "      <td>234282</td>\n",
              "      <td>0.166667</td>\n",
              "    </tr>\n",
              "    <tr>\n",
              "      <th>2037054</th>\n",
              "      <td>142268</td>\n",
              "      <td>214206</td>\n",
              "      <td>0.047619</td>\n",
              "    </tr>\n",
              "    <tr>\n",
              "      <th>1629687</th>\n",
              "      <td>100387</td>\n",
              "      <td>250118</td>\n",
              "      <td>0.052632</td>\n",
              "    </tr>\n",
              "    <tr>\n",
              "      <th>2916666</th>\n",
              "      <td>309688</td>\n",
              "      <td>285675</td>\n",
              "      <td>0.333333</td>\n",
              "    </tr>\n",
              "    <tr>\n",
              "      <th>1037552</th>\n",
              "      <td>56808</td>\n",
              "      <td>199198</td>\n",
              "      <td>0.023256</td>\n",
              "    </tr>\n",
              "  </tbody>\n",
              "</table>\n",
              "<p>14754 rows × 3 columns</p>\n",
              "</div>"
            ],
            "text/plain": [
              "         user_id  article_id    rating\n",
              "2936274   317101      199393  0.500000\n",
              "1620248    99395       59758  0.500000\n",
              "612201     31691      293050  0.016393\n",
              "1525674    90863       32750  0.076923\n",
              "1100500    60312      236524  0.050000\n",
              "...          ...         ...       ...\n",
              "2335685   182016      234282  0.166667\n",
              "2037054   142268      214206  0.047619\n",
              "1629687   100387      250118  0.052632\n",
              "2916666   309688      285675  0.333333\n",
              "1037552    56808      199198  0.023256\n",
              "\n",
              "[14754 rows x 3 columns]"
            ]
          },
          "execution_count": 19,
          "metadata": {},
          "output_type": "execute_result"
        }
      ],
      "source": [
        "ratings_sample = ratings.sample(frac=SAMPLE_RATIO, random_state=8989)\n",
        "ratings_sample"
      ]
    },
    {
      "cell_type": "markdown",
      "metadata": {
        "id": "qn3h57eW5KkS"
      },
      "source": [
        "## 4.5 Train/Test split"
      ]
    },
    {
      "cell_type": "code",
      "execution_count": 20,
      "metadata": {
        "execution": {
          "iopub.execute_input": "2022-11-13T15:26:22.848867Z",
          "iopub.status.busy": "2022-11-13T15:26:22.847883Z",
          "iopub.status.idle": "2022-11-13T15:26:22.872611Z",
          "shell.execute_reply": "2022-11-13T15:26:22.871585Z",
          "shell.execute_reply.started": "2022-11-13T15:26:22.848816Z"
        },
        "id": "07RBwRFo5KkT",
        "trusted": true
      },
      "outputs": [],
      "source": [
        "from sklearn.model_selection import train_test_split\n",
        "train_df, test_df = train_test_split(ratings_sample, train_size=0.8, random_state=31)"
      ]
    },
    {
      "cell_type": "code",
      "execution_count": 23,
      "metadata": {},
      "outputs": [
        {
          "data": {
            "text/html": [
              "<div>\n",
              "<style scoped>\n",
              "    .dataframe tbody tr th:only-of-type {\n",
              "        vertical-align: middle;\n",
              "    }\n",
              "\n",
              "    .dataframe tbody tr th {\n",
              "        vertical-align: top;\n",
              "    }\n",
              "\n",
              "    .dataframe thead th {\n",
              "        text-align: right;\n",
              "    }\n",
              "</style>\n",
              "<table border=\"1\" class=\"dataframe\">\n",
              "  <thead>\n",
              "    <tr style=\"text-align: right;\">\n",
              "      <th></th>\n",
              "      <th>user_id</th>\n",
              "      <th>article_id</th>\n",
              "      <th>rating</th>\n",
              "    </tr>\n",
              "  </thead>\n",
              "  <tbody>\n",
              "    <tr>\n",
              "      <th>1306426</th>\n",
              "      <td>74547</td>\n",
              "      <td>160974</td>\n",
              "      <td>0.111111</td>\n",
              "    </tr>\n",
              "    <tr>\n",
              "      <th>637456</th>\n",
              "      <td>33486</td>\n",
              "      <td>235132</td>\n",
              "      <td>0.200000</td>\n",
              "    </tr>\n",
              "    <tr>\n",
              "      <th>855428</th>\n",
              "      <td>47448</td>\n",
              "      <td>59400</td>\n",
              "      <td>0.022222</td>\n",
              "    </tr>\n",
              "    <tr>\n",
              "      <th>73521</th>\n",
              "      <td>3025</td>\n",
              "      <td>336380</td>\n",
              "      <td>0.045455</td>\n",
              "    </tr>\n",
              "    <tr>\n",
              "      <th>1060618</th>\n",
              "      <td>58060</td>\n",
              "      <td>57616</td>\n",
              "      <td>0.031250</td>\n",
              "    </tr>\n",
              "  </tbody>\n",
              "</table>\n",
              "</div>"
            ],
            "text/plain": [
              "         user_id  article_id    rating\n",
              "1306426    74547      160974  0.111111\n",
              "637456     33486      235132  0.200000\n",
              "855428     47448       59400  0.022222\n",
              "73521       3025      336380  0.045455\n",
              "1060618    58060       57616  0.031250"
            ]
          },
          "execution_count": 23,
          "metadata": {},
          "output_type": "execute_result"
        }
      ],
      "source": [
        "train_df.head()"
      ]
    },
    {
      "cell_type": "code",
      "execution_count": 24,
      "metadata": {},
      "outputs": [
        {
          "name": "stdout",
          "output_type": "stream",
          "text": [
            "Votre DataFrame ne contient aucune valeur manquante.\n"
          ]
        }
      ],
      "source": [
        "# 1. Vérifier s'il y a AU MOINS UNE valeur manquante dans le DataFrame\n",
        "if train_df.isnull().any().any():\n",
        "    print(\"Votre DataFrame contient des valeurs manquantes.\")\n",
        "\n",
        "    # 2. Identifier les colonnes qui contiennent des valeurs manquantes\n",
        "    colonnes_avec_nan = train_df.columns[train_df.isnull().any()].tolist()\n",
        "    print(f\"Les colonnes avec des valeurs manquantes sont : {colonnes_avec_nan}\")\n",
        "\n",
        "else:\n",
        "    print(\"Votre DataFrame ne contient aucune valeur manquante.\")"
      ]
    },
    {
      "cell_type": "markdown",
      "metadata": {
        "id": "hKH1G_4t5KkT"
      },
      "source": [
        "## 4.6 Entrainement des modèles"
      ]
    },
    {
      "cell_type": "code",
      "execution_count": 25,
      "metadata": {
        "execution": {
          "iopub.execute_input": "2022-11-13T15:27:32.326946Z",
          "iopub.status.busy": "2022-11-13T15:27:32.326456Z",
          "iopub.status.idle": "2022-11-13T15:27:32.462364Z",
          "shell.execute_reply": "2022-11-13T15:27:32.461267Z",
          "shell.execute_reply.started": "2022-11-13T15:27:32.326891Z"
        },
        "id": "bTnsU2CC5KkT",
        "trusted": true
      },
      "outputs": [],
      "source": [
        "from scipy.sparse import csr_matrix\n",
        "from sklearn.model_selection import train_test_split\n",
        "\n",
        "from tqdm import tqdm\n",
        "\n",
        "from implicit.als import AlternatingLeastSquares\n",
        "from implicit.bpr import BayesianPersonalizedRanking\n",
        "from implicit.lmf import LogisticMatrixFactorization\n",
        "from implicit.evaluation import precision_at_k, mean_average_precision_at_k, ndcg_at_k, AUC_at_k"
      ]
    },
    {
      "cell_type": "markdown",
      "metadata": {
        "id": "TkCzSjYv5KkT"
      },
      "source": [
        "Dans cette partie nous évaluons les 3 systèmes de recommandation."
      ]
    },
    {
      "cell_type": "markdown",
      "metadata": {
        "id": "hBzjbzQ-5KkT"
      },
      "source": [
        "**La factorisation matricielle logistique** est un modèle de recommandation de filtrage collaboratif qui apprend la distribution probabiliste, que l'utilisateur le veuille ou non. L'algorithme du modèle est décrit dans « Factorisation matricielle logistique pour les données de rétroaction implicite » <https://web.stanford.edu/~rezab/nips2014workshop/submits/logmat.pdf>."
      ]
    },
    {
      "cell_type": "markdown",
      "metadata": {
        "id": "o5V3B75D5KkT"
      },
      "source": [
        "**Moindres carrés alternés** est un modèle de recommandation basé sur les algorithmes décrits dans l'article « Filtrage collaboratif pour les jeux de données à rétroaction implicite », avec des optimisations de performances décrites dans « Applications de la méthode du gradient conjugué pour le filtrage collaboratif à rétroaction implicite ».\n",
        "\n",
        "Cette fonction d'usine bascule entre les implémentations CPU et GPU trouvées dans implicit.cpu.als.AlternatingLeastSquares et implicit.gpu.als.AlternatingLeastSquares en fonction de l'indicateur use_gpu."
      ]
    },
    {
      "cell_type": "markdown",
      "metadata": {
        "id": "L_a1A-T-5KkT"
      },
      "source": [
        "**Le classement bayésien personnalisé** est un modèle de recommandation qui apprend une intégration de factorisation matricielle basée sur la minimisation de la perte de classement par paires, décrite dans l'article BPR : Classement bayésien personnalisé à partir de commentaires implicites.\n",
        "\n",
        "Cette fonction d'usine renvoie soit l'implémentation du processeur (implicit.cpu.bpr), soit l'implémentation du processeur graphique (implicit.gpu.bpr), selon la valeur de l'indicateur use_gpu."
      ]
    },
    {
      "cell_type": "code",
      "execution_count": 30,
      "metadata": {
        "execution": {
          "iopub.execute_input": "2022-11-13T15:27:35.374521Z",
          "iopub.status.busy": "2022-11-13T15:27:35.374136Z",
          "iopub.status.idle": "2022-11-13T15:27:35.387504Z",
          "shell.execute_reply": "2022-11-13T15:27:35.38642Z",
          "shell.execute_reply.started": "2022-11-13T15:27:35.374491Z"
        },
        "id": "40qXOhpK5KkT",
        "trusted": true
      },
      "outputs": [],
      "source": [
        "def train_models(train_df, test_df, models_list, n_recommandations):\n",
        "    \"\"\"Evalues les 3 modèles entraînés.\"\"\"\n",
        "    df_results = pd.DataFrame(columns=['model', 'Precision@k','MAP@k','nDCG@k',\"train_time\"])\n",
        "    dim = (max(train_df.user_id.max(),test_df.user_id.max())+1, max(train_df.article_id.max(),test_df.article_id.max())+1)\n",
        "    train_csr = csr_matrix((train_df['rating'], (train_df['user_id'], train_df['article_id'])), dim)\n",
        "    test_csr = csr_matrix((test_df['rating'], (test_df['user_id'], test_df['article_id'])), dim)\n",
        "    for model in models_list:\n",
        "        print(\"##\"*30)\n",
        "        print(\"[INFO] : Start training the model : \", model.__class__.__name__)\n",
        "        train_start_time = time()\n",
        "        model.fit(train_csr)\n",
        "        train_time = time() - train_start_time\n",
        "        precision_k = round(precision_at_k(model, train_csr, test_csr), 5)\n",
        "        map_at_k = round(mean_average_precision_at_k(model, train_csr, test_csr), 5)\n",
        "        ndcg_k = round(ndcg_at_k(model, train_csr, test_csr), 5)\n",
        "        print(\"[INFO] : Precision@k = \", precision_k)\n",
        "        print(\"[INFO] : MAP@k = \", map_at_k)\n",
        "        print(\"[INFO] : nDCG@k = \", ndcg_k)\n",
        "        print(\"##\"*30)\n",
        "        df_results = pd.DataFrame([{\n",
        "            'model': model.__class__.__name__,\n",
        "            'Precision@k': precision_k,\n",
        "            'MAP@k': map_at_k,\n",
        "            'nDCG@k': ndcg_k,\n",
        "            'train_time': round(train_time,5),\n",
        "        }])\n",
        "\n",
        "    return df_results"
      ]
    },
    {
      "cell_type": "code",
      "execution_count": 31,
      "metadata": {
        "execution": {
          "iopub.execute_input": "2022-11-13T15:27:42.411707Z",
          "iopub.status.busy": "2022-11-13T15:27:42.411277Z",
          "iopub.status.idle": "2022-11-13T15:32:21.412154Z",
          "shell.execute_reply": "2022-11-13T15:32:21.410845Z",
          "shell.execute_reply.started": "2022-11-13T15:27:42.411672Z"
        },
        "id": "poSpUJWo5KkT",
        "trusted": true
      },
      "outputs": [
        {
          "name": "stdout",
          "output_type": "stream",
          "text": [
            "############################################################\n",
            "[INFO] : Start training the model :  AlternatingLeastSquares\n"
          ]
        },
        {
          "name": "stderr",
          "output_type": "stream",
          "text": [
            "100%|██████████| 15/15 [00:02<00:00,  6.83it/s]\n",
            "100%|██████████| 2894/2894 [00:01<00:00, 1466.07it/s]\n",
            "100%|██████████| 2894/2894 [00:01<00:00, 1556.38it/s]\n",
            "100%|██████████| 2894/2894 [00:01<00:00, 1591.33it/s]\n"
          ]
        },
        {
          "name": "stdout",
          "output_type": "stream",
          "text": [
            "[INFO] : Precision@k =  0.00305\n",
            "[INFO] : MAP@k =  0.00054\n",
            "[INFO] : nDCG@k =  0.0011\n",
            "############################################################\n",
            "############################################################\n",
            "[INFO] : Start training the model :  BayesianPersonalizedRanking\n"
          ]
        },
        {
          "name": "stderr",
          "output_type": "stream",
          "text": [
            "100%|██████████| 100/100 [00:00<00:00, 472.09it/s, train_auc=57.12%, skipped=0.25%]\n",
            "100%|██████████| 2894/2894 [00:01<00:00, 1506.62it/s]\n",
            "100%|██████████| 2894/2894 [00:01<00:00, 1713.51it/s]\n",
            "100%|██████████| 2894/2894 [00:01<00:00, 1554.15it/s]\n"
          ]
        },
        {
          "name": "stdout",
          "output_type": "stream",
          "text": [
            "[INFO] : Precision@k =  0.00339\n",
            "[INFO] : MAP@k =  0.0012\n",
            "[INFO] : nDCG@k =  0.00173\n",
            "############################################################\n",
            "############################################################\n",
            "[INFO] : Start training the model :  LogisticMatrixFactorization\n"
          ]
        },
        {
          "name": "stderr",
          "output_type": "stream",
          "text": [
            "100%|██████████| 30/30 [00:00<00:00, 57.86it/s]\n",
            "100%|██████████| 2894/2894 [00:01<00:00, 1654.30it/s]\n",
            "100%|██████████| 2894/2894 [00:01<00:00, 1828.58it/s]\n",
            "100%|██████████| 2894/2894 [00:01<00:00, 1850.29it/s]"
          ]
        },
        {
          "name": "stdout",
          "output_type": "stream",
          "text": [
            "[INFO] : Precision@k =  0.07591\n",
            "[INFO] : MAP@k =  0.02366\n",
            "[INFO] : nDCG@k =  0.03574\n",
            "############################################################\n"
          ]
        },
        {
          "name": "stderr",
          "output_type": "stream",
          "text": [
            "\n"
          ]
        },
        {
          "data": {
            "text/html": [
              "<div>\n",
              "<style scoped>\n",
              "    .dataframe tbody tr th:only-of-type {\n",
              "        vertical-align: middle;\n",
              "    }\n",
              "\n",
              "    .dataframe tbody tr th {\n",
              "        vertical-align: top;\n",
              "    }\n",
              "\n",
              "    .dataframe thead th {\n",
              "        text-align: right;\n",
              "    }\n",
              "</style>\n",
              "<table border=\"1\" class=\"dataframe\">\n",
              "  <thead>\n",
              "    <tr style=\"text-align: right;\">\n",
              "      <th></th>\n",
              "      <th>model</th>\n",
              "      <th>Precision@k</th>\n",
              "      <th>MAP@k</th>\n",
              "      <th>nDCG@k</th>\n",
              "      <th>train_time</th>\n",
              "    </tr>\n",
              "  </thead>\n",
              "  <tbody>\n",
              "    <tr>\n",
              "      <th>0</th>\n",
              "      <td>LogisticMatrixFactorization</td>\n",
              "      <td>0.07591</td>\n",
              "      <td>0.02366</td>\n",
              "      <td>0.03574</td>\n",
              "      <td>0.72697</td>\n",
              "    </tr>\n",
              "  </tbody>\n",
              "</table>\n",
              "</div>"
            ],
            "text/plain": [
              "                         model  Precision@k    MAP@k   nDCG@k  train_time\n",
              "0  LogisticMatrixFactorization      0.07591  0.02366  0.03574     0.72697"
            ]
          },
          "execution_count": 31,
          "metadata": {},
          "output_type": "execute_result"
        }
      ],
      "source": [
        "models_list = [AlternatingLeastSquares(), BayesianPersonalizedRanking(), LogisticMatrixFactorization()]\n",
        "\n",
        "train_models(\n",
        "    train_df= train_df,\n",
        "    test_df= test_df,\n",
        "    models_list= models_list,\n",
        "    n_recommandations = 5,\n",
        "    )"
      ]
    },
    {
      "cell_type": "markdown",
      "metadata": {
        "id": "KpQ8d5-C5KkT"
      },
      "source": [
        "Le modèle le plus performant étant le LMF (Logistic Matric Factorization) avec 5,3% des articles recommandés par le système sont des articles pertinents pour l'utilisateur, donc susceptibles de lui plaire."
      ]
    },
    {
      "cell_type": "markdown",
      "metadata": {
        "id": "_PVIJNpg5KkT"
      },
      "source": [
        "## 4.7 Pipeline d'entrainement"
      ]
    },
    {
      "cell_type": "code",
      "execution_count": null,
      "metadata": {
        "execution": {
          "iopub.execute_input": "2022-11-13T15:34:57.342887Z",
          "iopub.status.busy": "2022-11-13T15:34:57.342447Z",
          "iopub.status.idle": "2022-11-13T15:34:57.355668Z",
          "shell.execute_reply": "2022-11-13T15:34:57.354616Z",
          "shell.execute_reply.started": "2022-11-13T15:34:57.342853Z"
        },
        "id": "mOlrSXay5KkT",
        "trusted": true
      },
      "outputs": [],
      "source": [
        "import pickle\n",
        "\n",
        "def compute_interaction_matrix(clicks):\n",
        "    \"\"\"Mise en place de la matrice d'interaction.\"\"\"\n",
        "    interactions = clicks.groupby(['user_id','article_id']).size().reset_index(name='count')\n",
        "\n",
        "    csr_item_user = csr_matrix((interactions['count'].astype(float),\n",
        "                                (interactions['article_id'],\n",
        "                                 interactions['user_id'])))\n",
        "\n",
        "    csr_user_item = csr_matrix((interactions['count'].astype(float),\n",
        "                                (interactions['user_id'],\n",
        "                                 interactions['article_id'])))\n",
        "\n",
        "    return csr_item_user, csr_user_item\n",
        "\n",
        "def get_cf_reco(clicks, userID, csr_item_user, csr_user_item, model_path=None, n_reco=5, train=True):\n",
        "    \"\"\"Mise en place du modèle de recommandation.\"\"\"\n",
        "    start = time()\n",
        "\n",
        "    if train or model_path is None:\n",
        "        model = LogisticMatrixFactorization(factors= 128, random_state=42)\n",
        "        print(\"[INFO] : Start training model\")\n",
        "        model.fit(csr_user_item)\n",
        "\n",
        "        with open('recommender.model', 'wb') as filehandle:\n",
        "            pickle.dump(model, filehandle)\n",
        "    else:\n",
        "        with open('recommender.model', 'rb') as filehandle:\n",
        "            model = pickle.load(filehandle)\n",
        "\n",
        "    recommendations_list = []\n",
        "    recommendations = model.recommend(userID, csr_user_item[userID], N=n_reco, filter_already_liked_items=True)\n",
        "\n",
        "    print(f'[INFO] : Completed in {round(time() - start, 2)}s')\n",
        "    recommendations = [elt[0] for elt in recommendations]\n",
        "\n",
        "    return recommendations"
      ]
    },
    {
      "cell_type": "code",
      "execution_count": 33,
      "metadata": {
        "execution": {
          "iopub.execute_input": "2022-11-13T15:35:09.108448Z",
          "iopub.status.busy": "2022-11-13T15:35:09.108051Z",
          "iopub.status.idle": "2022-11-13T15:38:53.229695Z",
          "shell.execute_reply": "2022-11-13T15:38:53.227982Z",
          "shell.execute_reply.started": "2022-11-13T15:35:09.108415Z"
        },
        "id": "bcG62fDH5KkT",
        "trusted": true
      },
      "outputs": [
        {
          "name": "stdout",
          "output_type": "stream",
          "text": [
            "[INFO] : Start training model\n"
          ]
        },
        {
          "name": "stderr",
          "output_type": "stream",
          "text": [
            "100%|██████████| 30/30 [00:33<00:00,  1.11s/it]\n"
          ]
        },
        {
          "name": "stdout",
          "output_type": "stream",
          "text": [
            "[INFO] : Completed in 34.36s\n"
          ]
        },
        {
          "data": {
            "text/plain": [
              "[np.int32(42770), np.float32(10.521999)]"
            ]
          },
          "execution_count": 33,
          "metadata": {},
          "output_type": "execute_result"
        }
      ],
      "source": [
        "userID = 61691\n",
        "csr_item_user, csr_user_item = compute_interaction_matrix(clicks)\n",
        "get_cf_reco(clicks, userID, csr_item_user, csr_user_item,model_path=None, n_reco=5, train=True)"
      ]
    },
    {
      "cell_type": "code",
      "execution_count": 34,
      "metadata": {
        "execution": {
          "iopub.execute_input": "2022-11-12T14:57:42.797517Z",
          "iopub.status.busy": "2022-11-12T14:57:42.797072Z",
          "iopub.status.idle": "2022-11-12T14:57:43.430538Z",
          "shell.execute_reply": "2022-11-12T14:57:43.42937Z",
          "shell.execute_reply.started": "2022-11-12T14:57:42.797484Z"
        },
        "id": "9xVehte35KkT",
        "trusted": true
      },
      "outputs": [
        {
          "name": "stdout",
          "output_type": "stream",
          "text": [
            "[INFO] : Completed in 0.17s\n"
          ]
        },
        {
          "data": {
            "text/plain": [
              "[np.int32(42770), np.float32(10.521999)]"
            ]
          },
          "execution_count": 34,
          "metadata": {},
          "output_type": "execute_result"
        }
      ],
      "source": [
        "get_cf_reco(clicks, userID, csr_item_user, csr_user_item, model_path=\"./recommender.model\", n_reco=5, train=False)"
      ]
    }
  ],
  "metadata": {
    "colab": {
      "name": "Globo_model-creation",
      "provenance": []
    },
    "kernelspec": {
      "display_name": "projet10_venv",
      "language": "python",
      "name": "python3"
    },
    "language_info": {
      "codemirror_mode": {
        "name": "ipython",
        "version": 3
      },
      "file_extension": ".py",
      "mimetype": "text/x-python",
      "name": "python",
      "nbconvert_exporter": "python",
      "pygments_lexer": "ipython3",
      "version": "3.12.3"
    }
  },
  "nbformat": 4,
  "nbformat_minor": 0
}
