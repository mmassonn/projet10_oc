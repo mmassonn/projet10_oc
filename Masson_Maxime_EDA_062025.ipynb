{
 "cells": [
  {
   "cell_type": "markdown",
   "metadata": {
    "papermill": {
     "duration": 0.014044,
     "end_time": "2022-11-12T01:29:27.424462",
     "exception": false,
     "start_time": "2022-11-12T01:29:27.410418",
     "status": "completed"
    },
    "tags": []
   },
   "source": [
    "# Projet 10 : Analyse du jeu de données."
   ]
  },
  {
   "cell_type": "markdown",
   "metadata": {
    "papermill": {
     "duration": 0.013958,
     "end_time": "2022-11-12T01:29:27.450881",
     "exception": false,
     "start_time": "2022-11-12T01:29:27.436923",
     "status": "completed"
    },
    "tags": []
   },
   "source": [
    "Dans ce carnet, nous étudierons le jeu de données *News Portal - by Globo.com* afin de l'utiliser comme base pour l'entraînement des systèmes de recommandation.\n",
    "\n",
    "Nous nous concentrerons sur :\n",
    "* Le dossier **clicks**, qui contient les fichiers .CSV répertoriant les interactions des utilisateurs sur le portail Globo.com (un fichier par heure) ;\n",
    "* Le fichier .CSV **articles_metadata**, qui contient les métadonnées de tous les articles publiés (364 047) ;\n",
    "* Le fichier **articles_embeddings.pickle** contenant les intégrations des articles (vecteurs de dimensions 250), entraînées sur le texte et les métadonnées des articles OGlobo (https://github.com/gabrielspmoreira/chameleon_recsys)."
   ]
  },
  {
   "cell_type": "code",
   "execution_count": null,
   "metadata": {
    "execution": {
     "iopub.execute_input": "2022-11-13T15:15:48.834892Z",
     "iopub.status.busy": "2022-11-13T15:15:48.8344Z",
     "iopub.status.idle": "2022-11-13T15:15:49.894233Z",
     "shell.execute_reply": "2022-11-13T15:15:49.89336Z",
     "shell.execute_reply.started": "2022-11-13T15:15:48.834792Z"
    },
    "papermill": {
     "duration": 1.056318,
     "end_time": "2022-11-12T01:29:28.544332",
     "exception": false,
     "start_time": "2022-11-12T01:29:27.488014",
     "status": "completed"
    },
    "tags": [],
    "trusted": true
   },
   "outputs": [],
   "source": [
    "import pandas as pd\n",
    "import numpy as np\n",
    "from pathlib import Path\n",
    "from datetime import datetime\n",
    "import os\n",
    "import pickle\n",
    "from time import time\n",
    "from random import randint\n",
    "import matplotlib.pyplot as plt\n",
    "import seaborn as sns\n",
    "\n",
    "%matplotlib inline"
   ]
  },
  {
   "cell_type": "markdown",
   "metadata": {
    "papermill": {
     "duration": 0.012569,
     "end_time": "2022-11-12T01:29:28.569898",
     "exception": false,
     "start_time": "2022-11-12T01:29:28.557329",
     "status": "completed"
    },
    "tags": []
   },
   "source": [
    "# 1. Chemin du Dataset"
   ]
  },
  {
   "cell_type": "markdown",
   "metadata": {
    "papermill": {
     "duration": 0.01219,
     "end_time": "2022-11-12T01:29:28.594657",
     "exception": false,
     "start_time": "2022-11-12T01:29:28.582467",
     "status": "completed"
    },
    "tags": []
   },
   "source": [
    "Commençons par définir quelques chemins clés pour accéder à l'ensemble de données"
   ]
  },
  {
   "cell_type": "code",
   "execution_count": 2,
   "metadata": {
    "execution": {
     "iopub.execute_input": "2022-11-13T15:15:53.894013Z",
     "iopub.status.busy": "2022-11-13T15:15:53.893475Z",
     "iopub.status.idle": "2022-11-13T15:15:53.900724Z",
     "shell.execute_reply": "2022-11-13T15:15:53.899624Z",
     "shell.execute_reply.started": "2022-11-13T15:15:53.893963Z"
    },
    "papermill": {
     "duration": 0.021258,
     "end_time": "2022-11-12T01:29:28.628317",
     "exception": false,
     "start_time": "2022-11-12T01:29:28.607059",
     "status": "completed"
    },
    "tags": [],
    "trusted": true
   },
   "outputs": [],
   "source": [
    "src_path = Path(\"/home/maxime/openclassrooms/projet10_data/news-portal-user-interactions-by-globocom\")\n",
    "click_path = Path(\"/home/maxime/openclassrooms/projet10_data/news-portal-user-interactions-by-globocom/clicks/clicks\")"
   ]
  },
  {
   "cell_type": "markdown",
   "metadata": {
    "papermill": {
     "duration": 0.012128,
     "end_time": "2022-11-12T01:29:28.652904",
     "exception": false,
     "start_time": "2022-11-12T01:29:28.640776",
     "status": "completed"
    },
    "tags": []
   },
   "source": [
    "# 2. Exploration du Dataset : clicks folder"
   ]
  },
  {
   "cell_type": "markdown",
   "metadata": {
    "papermill": {
     "duration": 0.012062,
     "end_time": "2022-11-12T01:29:28.677369",
     "exception": false,
     "start_time": "2022-11-12T01:29:28.665307",
     "status": "completed"
    },
    "tags": []
   },
   "source": [
    "Chargeons tous les fichiers du dossier « Clics » pour avoir un aperçu des données disponibles. Nous concaténerons tous ces fichiers pour former le dataframe d'interaction."
   ]
  },
  {
   "cell_type": "code",
   "execution_count": 4,
   "metadata": {
    "execution": {
     "iopub.execute_input": "2022-11-13T15:15:57.155548Z",
     "iopub.status.busy": "2022-11-13T15:15:57.15444Z",
     "iopub.status.idle": "2022-11-13T15:16:13.124802Z",
     "shell.execute_reply": "2022-11-13T15:16:13.123849Z",
     "shell.execute_reply.started": "2022-11-13T15:15:57.155507Z"
    },
    "papermill": {
     "duration": 13.917744,
     "end_time": "2022-11-12T01:29:42.607515",
     "exception": false,
     "start_time": "2022-11-12T01:29:28.689771",
     "status": "completed"
    },
    "tags": [],
    "trusted": true
   },
   "outputs": [],
   "source": [
    "def get_interaction_dataset(click_path: Path) -> pd.DataFrame:\n",
    "    \"\"\"Obtenir un dataset concaténé.\"\"\"\n",
    "    click_filelist = sorted(click_path.iterdir(), key=lambda x: x.name)\n",
    "    click_list = []\n",
    "    for i in range(0, len(click_filelist)):\n",
    "        temp = pd.read_csv(click_path / click_filelist[i])\n",
    "        temp['filename'] = i\n",
    "        click_list.append(temp)\n",
    "    clicks = pd.concat(click_list, axis=0, ignore_index=True)\n",
    "\n",
    "    clicks.rename(columns={'click_article_id':'article_id'}, inplace=True)\n",
    "    date2convert = ['session_start', 'click_timestamp']\n",
    "    for col in date2convert:\n",
    "        clicks[col] = pd.to_datetime(clicks[col], unit='ms')\n",
    "    return clicks\n",
    "\n",
    "clicks = get_interaction_dataset(click_path=click_path)"
   ]
  },
  {
   "cell_type": "code",
   "execution_count": 5,
   "metadata": {},
   "outputs": [
    {
     "name": "stdout",
     "output_type": "stream",
     "text": [
      "Données de clics:  (2988181, 13)\n"
     ]
    }
   ],
   "source": [
    "print('Données de clics: ', clicks.shape)    "
   ]
  },
  {
   "cell_type": "code",
   "execution_count": 6,
   "metadata": {},
   "outputs": [
    {
     "data": {
      "text/html": [
       "<div>\n",
       "<style scoped>\n",
       "    .dataframe tbody tr th:only-of-type {\n",
       "        vertical-align: middle;\n",
       "    }\n",
       "\n",
       "    .dataframe tbody tr th {\n",
       "        vertical-align: top;\n",
       "    }\n",
       "\n",
       "    .dataframe thead th {\n",
       "        text-align: right;\n",
       "    }\n",
       "</style>\n",
       "<table border=\"1\" class=\"dataframe\">\n",
       "  <thead>\n",
       "    <tr style=\"text-align: right;\">\n",
       "      <th></th>\n",
       "      <th>user_id</th>\n",
       "      <th>session_id</th>\n",
       "      <th>session_start</th>\n",
       "      <th>session_size</th>\n",
       "      <th>article_id</th>\n",
       "      <th>click_timestamp</th>\n",
       "      <th>click_environment</th>\n",
       "      <th>click_deviceGroup</th>\n",
       "      <th>click_os</th>\n",
       "      <th>click_country</th>\n",
       "      <th>click_region</th>\n",
       "      <th>click_referrer_type</th>\n",
       "      <th>filename</th>\n",
       "    </tr>\n",
       "  </thead>\n",
       "  <tbody>\n",
       "    <tr>\n",
       "      <th>0</th>\n",
       "      <td>0</td>\n",
       "      <td>1506825423271737</td>\n",
       "      <td>2017-10-01 02:37:03</td>\n",
       "      <td>2</td>\n",
       "      <td>157541</td>\n",
       "      <td>2017-10-01 03:00:28.020</td>\n",
       "      <td>4</td>\n",
       "      <td>3</td>\n",
       "      <td>20</td>\n",
       "      <td>1</td>\n",
       "      <td>20</td>\n",
       "      <td>2</td>\n",
       "      <td>0</td>\n",
       "    </tr>\n",
       "    <tr>\n",
       "      <th>1</th>\n",
       "      <td>0</td>\n",
       "      <td>1506825423271737</td>\n",
       "      <td>2017-10-01 02:37:03</td>\n",
       "      <td>2</td>\n",
       "      <td>68866</td>\n",
       "      <td>2017-10-01 03:00:58.020</td>\n",
       "      <td>4</td>\n",
       "      <td>3</td>\n",
       "      <td>20</td>\n",
       "      <td>1</td>\n",
       "      <td>20</td>\n",
       "      <td>2</td>\n",
       "      <td>0</td>\n",
       "    </tr>\n",
       "    <tr>\n",
       "      <th>2</th>\n",
       "      <td>1</td>\n",
       "      <td>1506825426267738</td>\n",
       "      <td>2017-10-01 02:37:06</td>\n",
       "      <td>2</td>\n",
       "      <td>235840</td>\n",
       "      <td>2017-10-01 03:03:37.951</td>\n",
       "      <td>4</td>\n",
       "      <td>1</td>\n",
       "      <td>17</td>\n",
       "      <td>1</td>\n",
       "      <td>16</td>\n",
       "      <td>2</td>\n",
       "      <td>0</td>\n",
       "    </tr>\n",
       "    <tr>\n",
       "      <th>3</th>\n",
       "      <td>1</td>\n",
       "      <td>1506825426267738</td>\n",
       "      <td>2017-10-01 02:37:06</td>\n",
       "      <td>2</td>\n",
       "      <td>96663</td>\n",
       "      <td>2017-10-01 03:04:07.951</td>\n",
       "      <td>4</td>\n",
       "      <td>1</td>\n",
       "      <td>17</td>\n",
       "      <td>1</td>\n",
       "      <td>16</td>\n",
       "      <td>2</td>\n",
       "      <td>0</td>\n",
       "    </tr>\n",
       "    <tr>\n",
       "      <th>4</th>\n",
       "      <td>2</td>\n",
       "      <td>1506825435299739</td>\n",
       "      <td>2017-10-01 02:37:15</td>\n",
       "      <td>2</td>\n",
       "      <td>119592</td>\n",
       "      <td>2017-10-01 03:04:50.575</td>\n",
       "      <td>4</td>\n",
       "      <td>1</td>\n",
       "      <td>17</td>\n",
       "      <td>1</td>\n",
       "      <td>24</td>\n",
       "      <td>2</td>\n",
       "      <td>0</td>\n",
       "    </tr>\n",
       "  </tbody>\n",
       "</table>\n",
       "</div>"
      ],
      "text/plain": [
       "  user_id        session_id       session_start session_size article_id  \\\n",
       "0       0  1506825423271737 2017-10-01 02:37:03            2     157541   \n",
       "1       0  1506825423271737 2017-10-01 02:37:03            2      68866   \n",
       "2       1  1506825426267738 2017-10-01 02:37:06            2     235840   \n",
       "3       1  1506825426267738 2017-10-01 02:37:06            2      96663   \n",
       "4       2  1506825435299739 2017-10-01 02:37:15            2     119592   \n",
       "\n",
       "          click_timestamp click_environment click_deviceGroup click_os  \\\n",
       "0 2017-10-01 03:00:28.020                 4                 3       20   \n",
       "1 2017-10-01 03:00:58.020                 4                 3       20   \n",
       "2 2017-10-01 03:03:37.951                 4                 1       17   \n",
       "3 2017-10-01 03:04:07.951                 4                 1       17   \n",
       "4 2017-10-01 03:04:50.575                 4                 1       17   \n",
       "\n",
       "  click_country click_region click_referrer_type  filename  \n",
       "0             1           20                   2         0  \n",
       "1             1           20                   2         0  \n",
       "2             1           16                   2         0  \n",
       "3             1           16                   2         0  \n",
       "4             1           24                   2         0  "
      ]
     },
     "execution_count": 6,
     "metadata": {},
     "output_type": "execute_result"
    }
   ],
   "source": [
    "clicks.head()"
   ]
  },
  {
   "cell_type": "markdown",
   "metadata": {
    "papermill": {
     "duration": 0.012362,
     "end_time": "2022-11-12T01:29:42.632977",
     "exception": false,
     "start_time": "2022-11-12T01:29:42.620615",
     "status": "completed"
    },
    "tags": []
   },
   "source": [
    "Examinons maintenant les variables du dataframe d'interaction.\n",
    "\n",
    "* **user_id** : identifiant unique de l'utilisateur\n",
    "* **session_id** : identifiant unique de la session ; au cours d'une session, un utilisateur peut avoir consulté plusieurs articles ;\n",
    "* **session_start** : horodatage de la première interaction de la session ;\n",
    "* **session_size** : nombre d'interactions au cours de la session ;\n",
    "* **click_article_id** : article consulté par l'utilisateur (1 ou plusieurs) ;\n",
    "* **click_timestamp** : horodatage de l'interaction ;\n",
    "* **click_environment** : identifiant de l'environnement (1 - Facebook, 2 - Application mobile, 3 - Pages mobiles, 4 - Web) ;\n",
    "* **click_deviceGroup** : type d'appareil utilisé (1 - Tablette, 2 - Téléviseur, 4 - Mobile, 5 - Ordinateur ou 3 - Vide) ; * **click_os** : identifiant du système d’exploitation (1 - Autre, 2 - iOS, 3 - Android, 4 - Windows Phone, 5 - Windows Mobile, 6 - Windows, 7 - Mac OS X, 8 - Mac OS, 9 - Samsung, 10 - FireHbbTV, 11 - ATV OS X, 12 - tvOS, 13 - Chrome OS, 14 - Debian, 15 - Symbian OS, 16 - BlackBerry OS, 17 - Firefox OS, 18 - Android, 19 - Brew MP, 20 - Chromecast, 21 - webOS, 22 - Gentoo, 23 - Solaris) ;\n",
    "* **click_country** : identifiant du pays ;\n",
    "* **click_region** : région ;\n",
    "* **click_referrer_type** : (Aucune information)."
   ]
  },
  {
   "cell_type": "markdown",
   "metadata": {
    "papermill": {
     "duration": 0.012264,
     "end_time": "2022-11-12T01:29:42.657914",
     "exception": false,
     "start_time": "2022-11-12T01:29:42.64565",
     "status": "completed"
    },
    "tags": []
   },
   "source": [
    "## 2.1. Valeur unique dans le dataset interaction"
   ]
  },
  {
   "cell_type": "code",
   "execution_count": 8,
   "metadata": {
    "execution": {
     "iopub.execute_input": "2022-11-13T15:16:28.31818Z",
     "iopub.status.busy": "2022-11-13T15:16:28.317755Z",
     "iopub.status.idle": "2022-11-13T15:16:30.5136Z",
     "shell.execute_reply": "2022-11-13T15:16:30.512353Z",
     "shell.execute_reply.started": "2022-11-13T15:16:28.318142Z"
    },
    "papermill": {
     "duration": 2.293379,
     "end_time": "2022-11-12T01:29:44.963786",
     "exception": false,
     "start_time": "2022-11-12T01:29:42.670407",
     "status": "completed"
    },
    "tags": [],
    "trusted": true
   },
   "outputs": [
    {
     "name": "stdout",
     "output_type": "stream",
     "text": [
      "=== Valeur unique dans le dataset interaction ===\n",
      "=================================================================\n",
      "user_id  : 322897\n",
      "session_id  : 1048594\n",
      "session_start  : 646874\n",
      "session_size  : 72\n",
      "article_id  : 46033\n",
      "click_timestamp  : 2983198\n",
      "click_environment  : 3\n",
      "click_deviceGroup  : 5\n",
      "click_os  : 8\n",
      "click_country  : 11\n",
      "click_region  : 28\n",
      "click_referrer_type  : 7\n",
      "filename  : 384\n"
     ]
    }
   ],
   "source": [
    "print('=== Valeur unique dans le dataset interaction ===')\n",
    "print('=================================================================')\n",
    "for col in clicks.columns:\n",
    "    print(col, ' :', clicks[col].nunique())"
   ]
  },
  {
   "cell_type": "markdown",
   "metadata": {
    "papermill": {
     "duration": 0.013414,
     "end_time": "2022-11-12T01:29:44.991034",
     "exception": false,
     "start_time": "2022-11-12T01:29:44.97762",
     "status": "completed"
    },
    "tags": []
   },
   "source": [
    "# 3. Exploration du dataset : articles_metadata.csv"
   ]
  },
  {
   "cell_type": "markdown",
   "metadata": {
    "papermill": {
     "duration": 0.013598,
     "end_time": "2022-11-12T01:29:45.018321",
     "exception": false,
     "start_time": "2022-11-12T01:29:45.004723",
     "status": "completed"
    },
    "tags": []
   },
   "source": [
    "Chargeons et affichons quelques informations clés de articles_metadata.csv"
   ]
  },
  {
   "cell_type": "code",
   "execution_count": 10,
   "metadata": {
    "execution": {
     "iopub.execute_input": "2022-11-13T15:16:34.696242Z",
     "iopub.status.busy": "2022-11-13T15:16:34.695871Z",
     "iopub.status.idle": "2022-11-13T15:16:36.975516Z",
     "shell.execute_reply": "2022-11-13T15:16:36.974285Z",
     "shell.execute_reply.started": "2022-11-13T15:16:34.696213Z"
    },
    "papermill": {
     "duration": 2.281902,
     "end_time": "2022-11-12T01:29:47.314197",
     "exception": false,
     "start_time": "2022-11-12T01:29:45.032295",
     "status": "completed"
    },
    "tags": [],
    "trusted": true
   },
   "outputs": [
    {
     "name": "stdout",
     "output_type": "stream",
     "text": [
      "Date de création Min/Max : 2006-09-27 00:00:00 /  2018-03-13 00:00:00\n",
      "Métadonnées des articles:  (364047, 5)\n"
     ]
    },
    {
     "data": {
      "text/html": [
       "<div>\n",
       "<style scoped>\n",
       "    .dataframe tbody tr th:only-of-type {\n",
       "        vertical-align: middle;\n",
       "    }\n",
       "\n",
       "    .dataframe tbody tr th {\n",
       "        vertical-align: top;\n",
       "    }\n",
       "\n",
       "    .dataframe thead th {\n",
       "        text-align: right;\n",
       "    }\n",
       "</style>\n",
       "<table border=\"1\" class=\"dataframe\">\n",
       "  <thead>\n",
       "    <tr style=\"text-align: right;\">\n",
       "      <th></th>\n",
       "      <th>article_id</th>\n",
       "      <th>category_id</th>\n",
       "      <th>created_at_ts</th>\n",
       "      <th>publisher_id</th>\n",
       "      <th>words_count</th>\n",
       "    </tr>\n",
       "  </thead>\n",
       "  <tbody>\n",
       "    <tr>\n",
       "      <th>0</th>\n",
       "      <td>0</td>\n",
       "      <td>0</td>\n",
       "      <td>2017-12-13</td>\n",
       "      <td>0</td>\n",
       "      <td>168</td>\n",
       "    </tr>\n",
       "    <tr>\n",
       "      <th>1</th>\n",
       "      <td>1</td>\n",
       "      <td>1</td>\n",
       "      <td>2014-07-14</td>\n",
       "      <td>0</td>\n",
       "      <td>189</td>\n",
       "    </tr>\n",
       "    <tr>\n",
       "      <th>2</th>\n",
       "      <td>2</td>\n",
       "      <td>1</td>\n",
       "      <td>2014-08-22</td>\n",
       "      <td>0</td>\n",
       "      <td>250</td>\n",
       "    </tr>\n",
       "    <tr>\n",
       "      <th>3</th>\n",
       "      <td>3</td>\n",
       "      <td>1</td>\n",
       "      <td>2014-08-19</td>\n",
       "      <td>0</td>\n",
       "      <td>230</td>\n",
       "    </tr>\n",
       "    <tr>\n",
       "      <th>4</th>\n",
       "      <td>4</td>\n",
       "      <td>1</td>\n",
       "      <td>2014-08-03</td>\n",
       "      <td>0</td>\n",
       "      <td>162</td>\n",
       "    </tr>\n",
       "  </tbody>\n",
       "</table>\n",
       "</div>"
      ],
      "text/plain": [
       "   article_id  category_id created_at_ts  publisher_id  words_count\n",
       "0           0            0    2017-12-13             0          168\n",
       "1           1            1    2014-07-14             0          189\n",
       "2           2            1    2014-08-22             0          250\n",
       "3           3            1    2014-08-19             0          230\n",
       "4           4            1    2014-08-03             0          162"
      ]
     },
     "execution_count": 10,
     "metadata": {},
     "output_type": "execute_result"
    }
   ],
   "source": [
    "articles = pd.read_csv(src_path / 'articles_metadata.csv')\n",
    "\n",
    "articles['created_at_ts'] = pd.to_datetime(\n",
    "    (pd.to_datetime(\n",
    "        articles['created_at_ts'],\n",
    "        unit='ms')).dt.strftime('%Y/%m/%d'))\n",
    "print('Date de création Min/Max :', articles['created_at_ts'].min(),\n",
    "      '/ ', articles['created_at_ts'].max())\n",
    "\n",
    "print('Métadonnées des articles: ', articles.shape)\n",
    "articles.head()"
   ]
  },
  {
   "cell_type": "markdown",
   "metadata": {
    "papermill": {
     "duration": 0.01329,
     "end_time": "2022-11-12T01:29:47.34118",
     "exception": false,
     "start_time": "2022-11-12T01:29:47.32789",
     "status": "completed"
    },
    "tags": []
   },
   "source": [
    "Examinons maintenant les variables du dataframe de métadonnées."
   ]
  },
  {
   "cell_type": "markdown",
   "metadata": {
    "papermill": {
     "duration": 0.013502,
     "end_time": "2022-11-12T01:29:47.368247",
     "exception": false,
     "start_time": "2022-11-12T01:29:47.354745",
     "status": "completed"
    },
    "tags": []
   },
   "source": [
    "* **article_id** : l'identifiant de l'article ;\n",
    "* **category_id** : l'identifiant de la catégorie de l'article ;\n",
    "* **created_at_ts** : la date de publication de l'article ;\n",
    "* **publisher_id** : l'identifiant de l'éditeur de l'article ;\n",
    "* **word_count** : le nombre de mots par article."
   ]
  },
  {
   "cell_type": "markdown",
   "metadata": {
    "papermill": {
     "duration": 0.012909,
     "end_time": "2022-11-12T01:29:47.394468",
     "exception": false,
     "start_time": "2022-11-12T01:29:47.381559",
     "status": "completed"
    },
    "tags": []
   },
   "source": [
    "## 3.1. Valeurs uniques dans le dataset metadata."
   ]
  },
  {
   "cell_type": "code",
   "execution_count": 11,
   "metadata": {
    "execution": {
     "iopub.execute_input": "2022-11-13T15:16:40.25708Z",
     "iopub.status.busy": "2022-11-13T15:16:40.256691Z",
     "iopub.status.idle": "2022-11-13T15:16:40.284406Z",
     "shell.execute_reply": "2022-11-13T15:16:40.283109Z",
     "shell.execute_reply.started": "2022-11-13T15:16:40.257046Z"
    },
    "papermill": {
     "duration": 0.047725,
     "end_time": "2022-11-12T01:29:47.455727",
     "exception": false,
     "start_time": "2022-11-12T01:29:47.408002",
     "status": "completed"
    },
    "tags": [],
    "trusted": true
   },
   "outputs": [
    {
     "name": "stdout",
     "output_type": "stream",
     "text": [
      "=== Valeurs uniques dans le dataset metadata ===\n",
      "=============================================================\n",
      "article_id  : 364047\n",
      "category_id  : 461\n",
      "created_at_ts  : 2302\n",
      "publisher_id  : 1\n",
      "words_count  : 866\n"
     ]
    }
   ],
   "source": [
    "print('=== Valeurs uniques dans le dataset metadata ===')\n",
    "print('=============================================================')\n",
    "for col in articles.columns:\n",
    "    print(col, ' :', articles[col].nunique())"
   ]
  },
  {
   "cell_type": "markdown",
   "metadata": {
    "papermill": {
     "duration": 0.01297,
     "end_time": "2022-11-12T01:29:47.483225",
     "exception": false,
     "start_time": "2022-11-12T01:29:47.470255",
     "status": "completed"
    },
    "tags": []
   },
   "source": [
    "# 4. Exploration du dataset : embeddings pickle"
   ]
  },
  {
   "cell_type": "markdown",
   "metadata": {
    "papermill": {
     "duration": 0.012984,
     "end_time": "2022-11-12T01:29:47.509435",
     "exception": false,
     "start_time": "2022-11-12T01:29:47.496451",
     "status": "completed"
    },
    "tags": []
   },
   "source": [
    "Pour rappel, la matrice d'intégration est un vecteur de 250 dimensions, représentant généralement le poids des mots de vocabulaire utilisés dans un document - ici, les articles."
   ]
  },
  {
   "cell_type": "code",
   "execution_count": 12,
   "metadata": {
    "execution": {
     "iopub.execute_input": "2022-11-13T15:16:42.940484Z",
     "iopub.status.busy": "2022-11-13T15:16:42.939616Z",
     "iopub.status.idle": "2022-11-13T15:16:49.473674Z",
     "shell.execute_reply": "2022-11-13T15:16:49.472497Z",
     "shell.execute_reply.started": "2022-11-13T15:16:42.940425Z"
    },
    "papermill": {
     "duration": 5.115916,
     "end_time": "2022-11-12T01:29:52.638906",
     "exception": false,
     "start_time": "2022-11-12T01:29:47.52299",
     "status": "completed"
    },
    "tags": [],
    "trusted": true
   },
   "outputs": [
    {
     "name": "stdout",
     "output_type": "stream",
     "text": [
      "Articles embeddings shape:  (364047, 250)\n"
     ]
    },
    {
     "data": {
      "text/html": [
       "<div>\n",
       "<style scoped>\n",
       "    .dataframe tbody tr th:only-of-type {\n",
       "        vertical-align: middle;\n",
       "    }\n",
       "\n",
       "    .dataframe tbody tr th {\n",
       "        vertical-align: top;\n",
       "    }\n",
       "\n",
       "    .dataframe thead th {\n",
       "        text-align: right;\n",
       "    }\n",
       "</style>\n",
       "<table border=\"1\" class=\"dataframe\">\n",
       "  <thead>\n",
       "    <tr style=\"text-align: right;\">\n",
       "      <th></th>\n",
       "      <th>dim_0</th>\n",
       "      <th>dim_1</th>\n",
       "      <th>dim_2</th>\n",
       "      <th>dim_3</th>\n",
       "      <th>dim_4</th>\n",
       "      <th>dim_5</th>\n",
       "      <th>dim_6</th>\n",
       "      <th>dim_7</th>\n",
       "      <th>dim_8</th>\n",
       "      <th>dim_9</th>\n",
       "      <th>...</th>\n",
       "      <th>dim_240</th>\n",
       "      <th>dim_241</th>\n",
       "      <th>dim_242</th>\n",
       "      <th>dim_243</th>\n",
       "      <th>dim_244</th>\n",
       "      <th>dim_245</th>\n",
       "      <th>dim_246</th>\n",
       "      <th>dim_247</th>\n",
       "      <th>dim_248</th>\n",
       "      <th>dim_249</th>\n",
       "    </tr>\n",
       "  </thead>\n",
       "  <tbody>\n",
       "    <tr>\n",
       "      <th>0</th>\n",
       "      <td>-0.161183</td>\n",
       "      <td>-0.957233</td>\n",
       "      <td>-0.137944</td>\n",
       "      <td>0.050855</td>\n",
       "      <td>0.830055</td>\n",
       "      <td>0.901365</td>\n",
       "      <td>-0.335148</td>\n",
       "      <td>-0.559561</td>\n",
       "      <td>-0.500603</td>\n",
       "      <td>0.165183</td>\n",
       "      <td>...</td>\n",
       "      <td>0.321248</td>\n",
       "      <td>0.313999</td>\n",
       "      <td>0.636412</td>\n",
       "      <td>0.169179</td>\n",
       "      <td>0.540524</td>\n",
       "      <td>-0.813182</td>\n",
       "      <td>0.286870</td>\n",
       "      <td>-0.231686</td>\n",
       "      <td>0.597416</td>\n",
       "      <td>0.409623</td>\n",
       "    </tr>\n",
       "    <tr>\n",
       "      <th>1</th>\n",
       "      <td>-0.523216</td>\n",
       "      <td>-0.974058</td>\n",
       "      <td>0.738608</td>\n",
       "      <td>0.155234</td>\n",
       "      <td>0.626294</td>\n",
       "      <td>0.485297</td>\n",
       "      <td>-0.715657</td>\n",
       "      <td>-0.897996</td>\n",
       "      <td>-0.359747</td>\n",
       "      <td>0.398246</td>\n",
       "      <td>...</td>\n",
       "      <td>-0.487843</td>\n",
       "      <td>0.823124</td>\n",
       "      <td>0.412688</td>\n",
       "      <td>-0.338654</td>\n",
       "      <td>0.320787</td>\n",
       "      <td>0.588643</td>\n",
       "      <td>-0.594137</td>\n",
       "      <td>0.182828</td>\n",
       "      <td>0.397090</td>\n",
       "      <td>-0.834364</td>\n",
       "    </tr>\n",
       "    <tr>\n",
       "      <th>2</th>\n",
       "      <td>-0.619619</td>\n",
       "      <td>-0.972960</td>\n",
       "      <td>-0.207360</td>\n",
       "      <td>-0.128861</td>\n",
       "      <td>0.044748</td>\n",
       "      <td>-0.387535</td>\n",
       "      <td>-0.730477</td>\n",
       "      <td>-0.066126</td>\n",
       "      <td>-0.754899</td>\n",
       "      <td>-0.242004</td>\n",
       "      <td>...</td>\n",
       "      <td>0.454756</td>\n",
       "      <td>0.473184</td>\n",
       "      <td>0.377866</td>\n",
       "      <td>-0.863887</td>\n",
       "      <td>-0.383365</td>\n",
       "      <td>0.137721</td>\n",
       "      <td>-0.810877</td>\n",
       "      <td>-0.447580</td>\n",
       "      <td>0.805932</td>\n",
       "      <td>-0.285284</td>\n",
       "    </tr>\n",
       "    <tr>\n",
       "      <th>3</th>\n",
       "      <td>-0.740843</td>\n",
       "      <td>-0.975749</td>\n",
       "      <td>0.391698</td>\n",
       "      <td>0.641738</td>\n",
       "      <td>-0.268645</td>\n",
       "      <td>0.191745</td>\n",
       "      <td>-0.825593</td>\n",
       "      <td>-0.710591</td>\n",
       "      <td>-0.040099</td>\n",
       "      <td>-0.110514</td>\n",
       "      <td>...</td>\n",
       "      <td>0.271535</td>\n",
       "      <td>0.036040</td>\n",
       "      <td>0.480029</td>\n",
       "      <td>-0.763173</td>\n",
       "      <td>0.022627</td>\n",
       "      <td>0.565165</td>\n",
       "      <td>-0.910286</td>\n",
       "      <td>-0.537838</td>\n",
       "      <td>0.243541</td>\n",
       "      <td>-0.885329</td>\n",
       "    </tr>\n",
       "    <tr>\n",
       "      <th>4</th>\n",
       "      <td>-0.279052</td>\n",
       "      <td>-0.972315</td>\n",
       "      <td>0.685374</td>\n",
       "      <td>0.113056</td>\n",
       "      <td>0.238315</td>\n",
       "      <td>0.271913</td>\n",
       "      <td>-0.568816</td>\n",
       "      <td>0.341194</td>\n",
       "      <td>-0.600554</td>\n",
       "      <td>-0.125644</td>\n",
       "      <td>...</td>\n",
       "      <td>0.238286</td>\n",
       "      <td>0.809268</td>\n",
       "      <td>0.427521</td>\n",
       "      <td>-0.615932</td>\n",
       "      <td>-0.503697</td>\n",
       "      <td>0.614450</td>\n",
       "      <td>-0.917760</td>\n",
       "      <td>-0.424061</td>\n",
       "      <td>0.185484</td>\n",
       "      <td>-0.580292</td>\n",
       "    </tr>\n",
       "  </tbody>\n",
       "</table>\n",
       "<p>5 rows × 250 columns</p>\n",
       "</div>"
      ],
      "text/plain": [
       "      dim_0     dim_1     dim_2     dim_3     dim_4     dim_5     dim_6  \\\n",
       "0 -0.161183 -0.957233 -0.137944  0.050855  0.830055  0.901365 -0.335148   \n",
       "1 -0.523216 -0.974058  0.738608  0.155234  0.626294  0.485297 -0.715657   \n",
       "2 -0.619619 -0.972960 -0.207360 -0.128861  0.044748 -0.387535 -0.730477   \n",
       "3 -0.740843 -0.975749  0.391698  0.641738 -0.268645  0.191745 -0.825593   \n",
       "4 -0.279052 -0.972315  0.685374  0.113056  0.238315  0.271913 -0.568816   \n",
       "\n",
       "      dim_7     dim_8     dim_9  ...   dim_240   dim_241   dim_242   dim_243  \\\n",
       "0 -0.559561 -0.500603  0.165183  ...  0.321248  0.313999  0.636412  0.169179   \n",
       "1 -0.897996 -0.359747  0.398246  ... -0.487843  0.823124  0.412688 -0.338654   \n",
       "2 -0.066126 -0.754899 -0.242004  ...  0.454756  0.473184  0.377866 -0.863887   \n",
       "3 -0.710591 -0.040099 -0.110514  ...  0.271535  0.036040  0.480029 -0.763173   \n",
       "4  0.341194 -0.600554 -0.125644  ...  0.238286  0.809268  0.427521 -0.615932   \n",
       "\n",
       "    dim_244   dim_245   dim_246   dim_247   dim_248   dim_249  \n",
       "0  0.540524 -0.813182  0.286870 -0.231686  0.597416  0.409623  \n",
       "1  0.320787  0.588643 -0.594137  0.182828  0.397090 -0.834364  \n",
       "2 -0.383365  0.137721 -0.810877 -0.447580  0.805932 -0.285284  \n",
       "3  0.022627  0.565165 -0.910286 -0.537838  0.243541 -0.885329  \n",
       "4 -0.503697  0.614450 -0.917760 -0.424061  0.185484 -0.580292  \n",
       "\n",
       "[5 rows x 250 columns]"
      ]
     },
     "execution_count": 12,
     "metadata": {},
     "output_type": "execute_result"
    }
   ],
   "source": [
    "with open(os.path.join(src_path,'articles_embeddings.pickle'), 'rb') as file:\n",
    "    embeddings = pickle.load(file)\n",
    "\n",
    "df_embeddings = pd.DataFrame(embeddings)\n",
    "df_embeddings = df_embeddings.add_prefix('dim_')\n",
    "\n",
    "print('Articles embeddings shape: ', df_embeddings.shape)\n",
    "df_embeddings.head()"
   ]
  },
  {
   "cell_type": "markdown",
   "metadata": {
    "papermill": {
     "duration": 0.013663,
     "end_time": "2022-11-12T01:29:52.666744",
     "exception": false,
     "start_time": "2022-11-12T01:29:52.653081",
     "status": "completed"
    },
    "tags": []
   },
   "source": [
    "**Observations clés :**\n",
    "* 322 897 utilisateurs uniques ;\n",
    "* 364 047 articles disponibles dans la base de données, mais seulement 46 033 font l’objet d’interactions avec les utilisateurs ;\n",
    "* Près de 3 millions de clics sur les articles sur la période étudiée."
   ]
  },
  {
   "cell_type": "markdown",
   "metadata": {
    "papermill": {
     "duration": 0.013708,
     "end_time": "2022-11-12T01:29:52.694425",
     "exception": false,
     "start_time": "2022-11-12T01:29:52.680717",
     "status": "completed"
    },
    "tags": []
   },
   "source": [
    "# 5. Principaux enseignements de l'ensemble de données"
   ]
  },
  {
   "cell_type": "markdown",
   "metadata": {
    "papermill": {
     "duration": 0.013649,
     "end_time": "2022-11-12T01:29:52.722144",
     "exception": false,
     "start_time": "2022-11-12T01:29:52.708495",
     "status": "completed"
    },
    "tags": []
   },
   "source": [
    "L'objectif du système de recommandation étant de fournir aux utilisateurs des articles qu'ils pourraient lire, nous pouvons considérer que les principaux éléments du système sont les **utilisateurs et les articles.**"
   ]
  },
  {
   "cell_type": "markdown",
   "metadata": {
    "papermill": {
     "duration": 0.013872,
     "end_time": "2022-11-12T01:29:52.750261",
     "exception": false,
     "start_time": "2022-11-12T01:29:52.736389",
     "status": "completed"
    },
    "tags": []
   },
   "source": [
    "## 5.1 Période d'analyse."
   ]
  },
  {
   "cell_type": "code",
   "execution_count": 16,
   "metadata": {
    "execution": {
     "iopub.execute_input": "2022-11-13T15:17:02.658059Z",
     "iopub.status.busy": "2022-11-13T15:17:02.657643Z",
     "iopub.status.idle": "2022-11-13T15:17:02.68349Z",
     "shell.execute_reply": "2022-11-13T15:17:02.682278Z",
     "shell.execute_reply.started": "2022-11-13T15:17:02.658022Z"
    },
    "papermill": {
     "duration": 0.043667,
     "end_time": "2022-11-12T01:29:52.807964",
     "exception": false,
     "start_time": "2022-11-12T01:29:52.764297",
     "status": "completed"
    },
    "tags": [],
    "trusted": true
   },
   "outputs": [
    {
     "name": "stdout",
     "output_type": "stream",
     "text": [
      "Sessions commence de 2017-10-01 02:37:03 à 2017-10-17 03:36:19\n"
     ]
    }
   ],
   "source": [
    "print('Sessions commence de {} à {}'.format(clicks.session_start.min(), clicks.session_start.max()))"
   ]
  },
  {
   "cell_type": "code",
   "execution_count": 17,
   "metadata": {
    "execution": {
     "iopub.execute_input": "2022-11-13T15:17:05.346534Z",
     "iopub.status.busy": "2022-11-13T15:17:05.345568Z",
     "iopub.status.idle": "2022-11-13T15:17:05.37172Z",
     "shell.execute_reply": "2022-11-13T15:17:05.370426Z",
     "shell.execute_reply.started": "2022-11-13T15:17:05.346493Z"
    },
    "papermill": {
     "duration": 0.043344,
     "end_time": "2022-11-12T01:29:52.865561",
     "exception": false,
     "start_time": "2022-11-12T01:29:52.822217",
     "status": "completed"
    },
    "tags": [],
    "trusted": true
   },
   "outputs": [
    {
     "name": "stdout",
     "output_type": "stream",
     "text": [
      "Les clicks commence de 2017-10-01 03:00:00.026000 à 2017-11-13 20:04:14.886000\n"
     ]
    }
   ],
   "source": [
    "print('Les clicks commence de {} à {}'.format(clicks.click_timestamp.min(), clicks.click_timestamp.max()))"
   ]
  },
  {
   "cell_type": "markdown",
   "metadata": {
    "papermill": {
     "duration": 0.013877,
     "end_time": "2022-11-12T01:29:52.893738",
     "exception": false,
     "start_time": "2022-11-12T01:29:52.879861",
     "status": "completed"
    },
    "tags": []
   },
   "source": [
    "**Observations clés :**\n",
    "* Les sessions débutent le 1er octobre 2017 et se terminent le 17 octobre 2017, soit une période de 16 jours ;\n",
    "* La durée des sessions s'étend du 1er octobre 2017 au 13 novembre 2017.\n",
    "* Ces deux données semblent quelque peu incohérentes, mais les dates de début des sessions devraient être plus fiables."
   ]
  },
  {
   "cell_type": "markdown",
   "metadata": {
    "papermill": {
     "duration": 0.013796,
     "end_time": "2022-11-12T01:29:52.921644",
     "exception": false,
     "start_time": "2022-11-12T01:29:52.907848",
     "status": "completed"
    },
    "tags": []
   },
   "source": [
    "## 5.2 Durée de lecture de articles."
   ]
  },
  {
   "cell_type": "code",
   "execution_count": 18,
   "metadata": {
    "execution": {
     "iopub.execute_input": "2022-11-13T15:17:09.406509Z",
     "iopub.status.busy": "2022-11-13T15:17:09.406107Z",
     "iopub.status.idle": "2022-11-13T15:24:44.525985Z",
     "shell.execute_reply": "2022-11-13T15:24:44.525038Z",
     "shell.execute_reply.started": "2022-11-13T15:17:09.406468Z"
    },
    "papermill": {
     "duration": 439.219082,
     "end_time": "2022-11-12T01:37:12.154654",
     "exception": false,
     "start_time": "2022-11-12T01:29:52.935572",
     "status": "completed"
    },
    "tags": [],
    "trusted": true
   },
   "outputs": [
    {
     "data": {
      "text/html": [
       "<div>\n",
       "<style scoped>\n",
       "    .dataframe tbody tr th:only-of-type {\n",
       "        vertical-align: middle;\n",
       "    }\n",
       "\n",
       "    .dataframe tbody tr th {\n",
       "        vertical-align: top;\n",
       "    }\n",
       "\n",
       "    .dataframe thead th {\n",
       "        text-align: right;\n",
       "    }\n",
       "</style>\n",
       "<table border=\"1\" class=\"dataframe\">\n",
       "  <thead>\n",
       "    <tr style=\"text-align: right;\">\n",
       "      <th></th>\n",
       "      <th>user_id</th>\n",
       "      <th>session_id</th>\n",
       "      <th>session_start</th>\n",
       "      <th>click_timestamp</th>\n",
       "      <th>delta_w_previous</th>\n",
       "      <th>end_article_view</th>\n",
       "      <th>view_duration</th>\n",
       "    </tr>\n",
       "  </thead>\n",
       "  <tbody>\n",
       "    <tr>\n",
       "      <th>0</th>\n",
       "      <td>0</td>\n",
       "      <td>1506825423271737</td>\n",
       "      <td>2017-10-01 02:37:03</td>\n",
       "      <td>2017-10-01 03:00:28.020</td>\n",
       "      <td>0 days 00:00:00</td>\n",
       "      <td>0 days 00:23:25.020000</td>\n",
       "      <td>1405.0</td>\n",
       "    </tr>\n",
       "    <tr>\n",
       "      <th>1</th>\n",
       "      <td>0</td>\n",
       "      <td>1506825423271737</td>\n",
       "      <td>2017-10-01 02:37:03</td>\n",
       "      <td>2017-10-01 03:00:58.020</td>\n",
       "      <td>0 days 00:00:30</td>\n",
       "      <td>0 days 00:23:55.020000</td>\n",
       "      <td>30.0</td>\n",
       "    </tr>\n",
       "    <tr>\n",
       "      <th>2</th>\n",
       "      <td>1</td>\n",
       "      <td>1506825426267738</td>\n",
       "      <td>2017-10-01 02:37:06</td>\n",
       "      <td>2017-10-01 03:03:37.951</td>\n",
       "      <td>0 days 00:00:00</td>\n",
       "      <td>0 days 00:26:31.951000</td>\n",
       "      <td>1592.0</td>\n",
       "    </tr>\n",
       "    <tr>\n",
       "      <th>3</th>\n",
       "      <td>1</td>\n",
       "      <td>1506825426267738</td>\n",
       "      <td>2017-10-01 02:37:06</td>\n",
       "      <td>2017-10-01 03:04:07.951</td>\n",
       "      <td>0 days 00:00:30</td>\n",
       "      <td>0 days 00:27:01.951000</td>\n",
       "      <td>30.0</td>\n",
       "    </tr>\n",
       "    <tr>\n",
       "      <th>4</th>\n",
       "      <td>2</td>\n",
       "      <td>1506825435299739</td>\n",
       "      <td>2017-10-01 02:37:15</td>\n",
       "      <td>2017-10-01 03:04:50.575</td>\n",
       "      <td>0 days 00:00:00</td>\n",
       "      <td>0 days 00:27:35.575000</td>\n",
       "      <td>1656.0</td>\n",
       "    </tr>\n",
       "  </tbody>\n",
       "</table>\n",
       "</div>"
      ],
      "text/plain": [
       "  user_id        session_id       session_start         click_timestamp  \\\n",
       "0       0  1506825423271737 2017-10-01 02:37:03 2017-10-01 03:00:28.020   \n",
       "1       0  1506825423271737 2017-10-01 02:37:03 2017-10-01 03:00:58.020   \n",
       "2       1  1506825426267738 2017-10-01 02:37:06 2017-10-01 03:03:37.951   \n",
       "3       1  1506825426267738 2017-10-01 02:37:06 2017-10-01 03:04:07.951   \n",
       "4       2  1506825435299739 2017-10-01 02:37:15 2017-10-01 03:04:50.575   \n",
       "\n",
       "  delta_w_previous       end_article_view  view_duration  \n",
       "0  0 days 00:00:00 0 days 00:23:25.020000         1405.0  \n",
       "1  0 days 00:00:30 0 days 00:23:55.020000           30.0  \n",
       "2  0 days 00:00:00 0 days 00:26:31.951000         1592.0  \n",
       "3  0 days 00:00:30 0 days 00:27:01.951000           30.0  \n",
       "4  0 days 00:00:00 0 days 00:27:35.575000         1656.0  "
      ]
     },
     "execution_count": 18,
     "metadata": {},
     "output_type": "execute_result"
    }
   ],
   "source": [
    "df0 = clicks[['user_id', 'session_id', 'session_start', 'click_timestamp']]\n",
    "\n",
    "df1 = pd.DataFrame(\n",
    "    df0.groupby(['user_id','session_id', 'session_start'],\n",
    "                as_index=False)['click_timestamp'].diff().fillna(pd.Timedelta(seconds=0)))\n",
    "\n",
    "df1.rename(columns={'click_timestamp':'delta_w_previous'}, inplace=True)\n",
    "\n",
    "views = df0.join(df1)\n",
    "\n",
    "views['end_article_view'] = views['click_timestamp'] - views['session_start']\n",
    "\n",
    "views['view_duration'] = np.where(round(views['delta_w_previous'].dt.total_seconds(),0) == 0,\n",
    "                             round(views['end_article_view'].dt.total_seconds(), 0),\n",
    "                             round(views['delta_w_previous'].dt.total_seconds(), 0))\n",
    "\n",
    "views.head()"
   ]
  },
  {
   "cell_type": "markdown",
   "metadata": {
    "papermill": {
     "duration": 0.014295,
     "end_time": "2022-11-12T01:37:12.183878",
     "exception": false,
     "start_time": "2022-11-12T01:37:12.169583",
     "status": "completed"
    },
    "tags": []
   },
   "source": [
    "Regardons plus en détail 2 utilisateurs. N°68 et N°320431"
   ]
  },
  {
   "cell_type": "code",
   "execution_count": 19,
   "metadata": {
    "execution": {
     "iopub.execute_input": "2022-11-13T15:24:56.850594Z",
     "iopub.status.busy": "2022-11-13T15:24:56.850162Z",
     "iopub.status.idle": "2022-11-13T15:24:57.102686Z",
     "shell.execute_reply": "2022-11-13T15:24:57.10159Z",
     "shell.execute_reply.started": "2022-11-13T15:24:56.850557Z"
    },
    "papermill": {
     "duration": 0.277022,
     "end_time": "2022-11-12T01:37:12.477422",
     "exception": false,
     "start_time": "2022-11-12T01:37:12.2004",
     "status": "completed"
    },
    "tags": [],
    "trusted": true
   },
   "outputs": [
    {
     "data": {
      "text/html": [
       "<div>\n",
       "<style scoped>\n",
       "    .dataframe tbody tr th:only-of-type {\n",
       "        vertical-align: middle;\n",
       "    }\n",
       "\n",
       "    .dataframe tbody tr th {\n",
       "        vertical-align: top;\n",
       "    }\n",
       "\n",
       "    .dataframe thead th {\n",
       "        text-align: right;\n",
       "    }\n",
       "</style>\n",
       "<table border=\"1\" class=\"dataframe\">\n",
       "  <thead>\n",
       "    <tr style=\"text-align: right;\">\n",
       "      <th></th>\n",
       "      <th>user_id</th>\n",
       "      <th>session_id</th>\n",
       "      <th>session_start</th>\n",
       "      <th>click_timestamp</th>\n",
       "      <th>delta_w_previous</th>\n",
       "      <th>end_article_view</th>\n",
       "      <th>view_duration</th>\n",
       "    </tr>\n",
       "  </thead>\n",
       "  <tbody>\n",
       "    <tr>\n",
       "      <th>180</th>\n",
       "      <td>68</td>\n",
       "      <td>1506826396181805</td>\n",
       "      <td>2017-10-01 02:53:16</td>\n",
       "      <td>2017-10-01 23:26:26.082</td>\n",
       "      <td>0 days 00:00:00</td>\n",
       "      <td>0 days 20:33:10.082000</td>\n",
       "      <td>73990.0</td>\n",
       "    </tr>\n",
       "    <tr>\n",
       "      <th>181</th>\n",
       "      <td>68</td>\n",
       "      <td>1506826396181805</td>\n",
       "      <td>2017-10-01 02:53:16</td>\n",
       "      <td>2017-10-01 23:30:31.121</td>\n",
       "      <td>0 days 00:04:05.039000</td>\n",
       "      <td>0 days 20:37:15.121000</td>\n",
       "      <td>245.0</td>\n",
       "    </tr>\n",
       "    <tr>\n",
       "      <th>182</th>\n",
       "      <td>68</td>\n",
       "      <td>1506826396181805</td>\n",
       "      <td>2017-10-01 02:53:16</td>\n",
       "      <td>2017-10-01 23:32:33.364</td>\n",
       "      <td>0 days 00:02:02.243000</td>\n",
       "      <td>0 days 20:39:17.364000</td>\n",
       "      <td>122.0</td>\n",
       "    </tr>\n",
       "    <tr>\n",
       "      <th>183</th>\n",
       "      <td>68</td>\n",
       "      <td>1506826396181805</td>\n",
       "      <td>2017-10-01 02:53:16</td>\n",
       "      <td>2017-10-03 02:35:24.157</td>\n",
       "      <td>1 days 03:02:50.793000</td>\n",
       "      <td>1 days 23:42:08.157000</td>\n",
       "      <td>97371.0</td>\n",
       "    </tr>\n",
       "    <tr>\n",
       "      <th>184</th>\n",
       "      <td>68</td>\n",
       "      <td>1506826396181805</td>\n",
       "      <td>2017-10-01 02:53:16</td>\n",
       "      <td>2017-10-03 02:35:54.157</td>\n",
       "      <td>0 days 00:00:30</td>\n",
       "      <td>1 days 23:42:38.157000</td>\n",
       "      <td>30.0</td>\n",
       "    </tr>\n",
       "    <tr>\n",
       "      <th>528189</th>\n",
       "      <td>68</td>\n",
       "      <td>1507040027288752</td>\n",
       "      <td>2017-10-03 14:13:47</td>\n",
       "      <td>2017-10-03 14:15:18.994</td>\n",
       "      <td>0 days 00:00:00</td>\n",
       "      <td>0 days 00:01:31.994000</td>\n",
       "      <td>92.0</td>\n",
       "    </tr>\n",
       "    <tr>\n",
       "      <th>528190</th>\n",
       "      <td>68</td>\n",
       "      <td>1507040027288752</td>\n",
       "      <td>2017-10-03 14:13:47</td>\n",
       "      <td>2017-10-05 01:04:38.792</td>\n",
       "      <td>1 days 10:49:19.798000</td>\n",
       "      <td>1 days 10:50:51.792000</td>\n",
       "      <td>125360.0</td>\n",
       "    </tr>\n",
       "    <tr>\n",
       "      <th>528191</th>\n",
       "      <td>68</td>\n",
       "      <td>1507040027288752</td>\n",
       "      <td>2017-10-03 14:13:47</td>\n",
       "      <td>2017-10-05 01:05:08.792</td>\n",
       "      <td>0 days 00:00:30</td>\n",
       "      <td>1 days 10:51:21.792000</td>\n",
       "      <td>30.0</td>\n",
       "    </tr>\n",
       "    <tr>\n",
       "      <th>2003920</th>\n",
       "      <td>68</td>\n",
       "      <td>1507664316334864</td>\n",
       "      <td>2017-10-10 19:38:36</td>\n",
       "      <td>2017-10-10 19:42:13.873</td>\n",
       "      <td>0 days 00:00:00</td>\n",
       "      <td>0 days 00:03:37.873000</td>\n",
       "      <td>218.0</td>\n",
       "    </tr>\n",
       "    <tr>\n",
       "      <th>2003921</th>\n",
       "      <td>68</td>\n",
       "      <td>1507664316334864</td>\n",
       "      <td>2017-10-10 19:38:36</td>\n",
       "      <td>2017-10-10 19:42:43.873</td>\n",
       "      <td>0 days 00:00:30</td>\n",
       "      <td>0 days 00:04:07.873000</td>\n",
       "      <td>30.0</td>\n",
       "    </tr>\n",
       "    <tr>\n",
       "      <th>2273060</th>\n",
       "      <td>68</td>\n",
       "      <td>1507758148272149</td>\n",
       "      <td>2017-10-11 21:42:28</td>\n",
       "      <td>2017-10-11 22:07:12.328</td>\n",
       "      <td>0 days 00:00:00</td>\n",
       "      <td>0 days 00:24:44.328000</td>\n",
       "      <td>1484.0</td>\n",
       "    </tr>\n",
       "    <tr>\n",
       "      <th>2273061</th>\n",
       "      <td>68</td>\n",
       "      <td>1507758148272149</td>\n",
       "      <td>2017-10-11 21:42:28</td>\n",
       "      <td>2017-10-13 13:08:36.125</td>\n",
       "      <td>1 days 15:01:23.797000</td>\n",
       "      <td>1 days 15:26:08.125000</td>\n",
       "      <td>140484.0</td>\n",
       "    </tr>\n",
       "    <tr>\n",
       "      <th>2273062</th>\n",
       "      <td>68</td>\n",
       "      <td>1507758148272149</td>\n",
       "      <td>2017-10-11 21:42:28</td>\n",
       "      <td>2017-10-13 13:16:16.310</td>\n",
       "      <td>0 days 00:07:40.185000</td>\n",
       "      <td>1 days 15:33:48.310000</td>\n",
       "      <td>460.0</td>\n",
       "    </tr>\n",
       "    <tr>\n",
       "      <th>2273063</th>\n",
       "      <td>68</td>\n",
       "      <td>1507758148272149</td>\n",
       "      <td>2017-10-11 21:42:28</td>\n",
       "      <td>2017-10-13 13:19:57.915</td>\n",
       "      <td>0 days 00:03:41.605000</td>\n",
       "      <td>1 days 15:37:29.915000</td>\n",
       "      <td>222.0</td>\n",
       "    </tr>\n",
       "    <tr>\n",
       "      <th>2273064</th>\n",
       "      <td>68</td>\n",
       "      <td>1507758148272149</td>\n",
       "      <td>2017-10-11 21:42:28</td>\n",
       "      <td>2017-10-13 13:20:27.915</td>\n",
       "      <td>0 days 00:00:30</td>\n",
       "      <td>1 days 15:37:59.915000</td>\n",
       "      <td>30.0</td>\n",
       "    </tr>\n",
       "    <tr>\n",
       "      <th>2784494</th>\n",
       "      <td>68</td>\n",
       "      <td>1508114109373817</td>\n",
       "      <td>2017-10-16 00:35:09</td>\n",
       "      <td>2017-10-16 00:49:37.441</td>\n",
       "      <td>0 days 00:00:00</td>\n",
       "      <td>0 days 00:14:28.441000</td>\n",
       "      <td>868.0</td>\n",
       "    </tr>\n",
       "    <tr>\n",
       "      <th>2784495</th>\n",
       "      <td>68</td>\n",
       "      <td>1508114109373817</td>\n",
       "      <td>2017-10-16 00:35:09</td>\n",
       "      <td>2017-10-16 00:53:03.652</td>\n",
       "      <td>0 days 00:03:26.211000</td>\n",
       "      <td>0 days 00:17:54.652000</td>\n",
       "      <td>206.0</td>\n",
       "    </tr>\n",
       "    <tr>\n",
       "      <th>2784496</th>\n",
       "      <td>68</td>\n",
       "      <td>1508114109373817</td>\n",
       "      <td>2017-10-16 00:35:09</td>\n",
       "      <td>2017-10-17 01:00:38.186</td>\n",
       "      <td>1 days 00:07:34.534000</td>\n",
       "      <td>1 days 00:25:29.186000</td>\n",
       "      <td>86855.0</td>\n",
       "    </tr>\n",
       "    <tr>\n",
       "      <th>2784497</th>\n",
       "      <td>68</td>\n",
       "      <td>1508114109373817</td>\n",
       "      <td>2017-10-16 00:35:09</td>\n",
       "      <td>2017-10-17 01:02:14.020</td>\n",
       "      <td>0 days 00:01:35.834000</td>\n",
       "      <td>1 days 00:27:05.020000</td>\n",
       "      <td>96.0</td>\n",
       "    </tr>\n",
       "    <tr>\n",
       "      <th>2784498</th>\n",
       "      <td>68</td>\n",
       "      <td>1508114109373817</td>\n",
       "      <td>2017-10-16 00:35:09</td>\n",
       "      <td>2017-10-17 01:02:44.020</td>\n",
       "      <td>0 days 00:00:30</td>\n",
       "      <td>1 days 00:27:35.020000</td>\n",
       "      <td>30.0</td>\n",
       "    </tr>\n",
       "  </tbody>\n",
       "</table>\n",
       "</div>"
      ],
      "text/plain": [
       "        user_id        session_id       session_start         click_timestamp  \\\n",
       "180          68  1506826396181805 2017-10-01 02:53:16 2017-10-01 23:26:26.082   \n",
       "181          68  1506826396181805 2017-10-01 02:53:16 2017-10-01 23:30:31.121   \n",
       "182          68  1506826396181805 2017-10-01 02:53:16 2017-10-01 23:32:33.364   \n",
       "183          68  1506826396181805 2017-10-01 02:53:16 2017-10-03 02:35:24.157   \n",
       "184          68  1506826396181805 2017-10-01 02:53:16 2017-10-03 02:35:54.157   \n",
       "528189       68  1507040027288752 2017-10-03 14:13:47 2017-10-03 14:15:18.994   \n",
       "528190       68  1507040027288752 2017-10-03 14:13:47 2017-10-05 01:04:38.792   \n",
       "528191       68  1507040027288752 2017-10-03 14:13:47 2017-10-05 01:05:08.792   \n",
       "2003920      68  1507664316334864 2017-10-10 19:38:36 2017-10-10 19:42:13.873   \n",
       "2003921      68  1507664316334864 2017-10-10 19:38:36 2017-10-10 19:42:43.873   \n",
       "2273060      68  1507758148272149 2017-10-11 21:42:28 2017-10-11 22:07:12.328   \n",
       "2273061      68  1507758148272149 2017-10-11 21:42:28 2017-10-13 13:08:36.125   \n",
       "2273062      68  1507758148272149 2017-10-11 21:42:28 2017-10-13 13:16:16.310   \n",
       "2273063      68  1507758148272149 2017-10-11 21:42:28 2017-10-13 13:19:57.915   \n",
       "2273064      68  1507758148272149 2017-10-11 21:42:28 2017-10-13 13:20:27.915   \n",
       "2784494      68  1508114109373817 2017-10-16 00:35:09 2017-10-16 00:49:37.441   \n",
       "2784495      68  1508114109373817 2017-10-16 00:35:09 2017-10-16 00:53:03.652   \n",
       "2784496      68  1508114109373817 2017-10-16 00:35:09 2017-10-17 01:00:38.186   \n",
       "2784497      68  1508114109373817 2017-10-16 00:35:09 2017-10-17 01:02:14.020   \n",
       "2784498      68  1508114109373817 2017-10-16 00:35:09 2017-10-17 01:02:44.020   \n",
       "\n",
       "              delta_w_previous       end_article_view  view_duration  \n",
       "180            0 days 00:00:00 0 days 20:33:10.082000        73990.0  \n",
       "181     0 days 00:04:05.039000 0 days 20:37:15.121000          245.0  \n",
       "182     0 days 00:02:02.243000 0 days 20:39:17.364000          122.0  \n",
       "183     1 days 03:02:50.793000 1 days 23:42:08.157000        97371.0  \n",
       "184            0 days 00:00:30 1 days 23:42:38.157000           30.0  \n",
       "528189         0 days 00:00:00 0 days 00:01:31.994000           92.0  \n",
       "528190  1 days 10:49:19.798000 1 days 10:50:51.792000       125360.0  \n",
       "528191         0 days 00:00:30 1 days 10:51:21.792000           30.0  \n",
       "2003920        0 days 00:00:00 0 days 00:03:37.873000          218.0  \n",
       "2003921        0 days 00:00:30 0 days 00:04:07.873000           30.0  \n",
       "2273060        0 days 00:00:00 0 days 00:24:44.328000         1484.0  \n",
       "2273061 1 days 15:01:23.797000 1 days 15:26:08.125000       140484.0  \n",
       "2273062 0 days 00:07:40.185000 1 days 15:33:48.310000          460.0  \n",
       "2273063 0 days 00:03:41.605000 1 days 15:37:29.915000          222.0  \n",
       "2273064        0 days 00:00:30 1 days 15:37:59.915000           30.0  \n",
       "2784494        0 days 00:00:00 0 days 00:14:28.441000          868.0  \n",
       "2784495 0 days 00:03:26.211000 0 days 00:17:54.652000          206.0  \n",
       "2784496 1 days 00:07:34.534000 1 days 00:25:29.186000        86855.0  \n",
       "2784497 0 days 00:01:35.834000 1 days 00:27:05.020000           96.0  \n",
       "2784498        0 days 00:00:30 1 days 00:27:35.020000           30.0  "
      ]
     },
     "execution_count": 19,
     "metadata": {},
     "output_type": "execute_result"
    }
   ],
   "source": [
    "views[views.user_id == 68]"
   ]
  },
  {
   "cell_type": "code",
   "execution_count": 20,
   "metadata": {
    "execution": {
     "iopub.execute_input": "2022-11-12T01:37:12.508569Z",
     "iopub.status.busy": "2022-11-12T01:37:12.507918Z",
     "iopub.status.idle": "2022-11-12T01:37:12.70816Z",
     "shell.execute_reply": "2022-11-12T01:37:12.707238Z"
    },
    "papermill": {
     "duration": 0.218445,
     "end_time": "2022-11-12T01:37:12.710557",
     "exception": false,
     "start_time": "2022-11-12T01:37:12.492112",
     "status": "completed"
    },
    "tags": []
   },
   "outputs": [
    {
     "data": {
      "text/html": [
       "<div>\n",
       "<style scoped>\n",
       "    .dataframe tbody tr th:only-of-type {\n",
       "        vertical-align: middle;\n",
       "    }\n",
       "\n",
       "    .dataframe tbody tr th {\n",
       "        vertical-align: top;\n",
       "    }\n",
       "\n",
       "    .dataframe thead th {\n",
       "        text-align: right;\n",
       "    }\n",
       "</style>\n",
       "<table border=\"1\" class=\"dataframe\">\n",
       "  <thead>\n",
       "    <tr style=\"text-align: right;\">\n",
       "      <th></th>\n",
       "      <th>user_id</th>\n",
       "      <th>session_id</th>\n",
       "      <th>session_start</th>\n",
       "      <th>click_timestamp</th>\n",
       "      <th>delta_w_previous</th>\n",
       "      <th>end_article_view</th>\n",
       "      <th>view_duration</th>\n",
       "    </tr>\n",
       "  </thead>\n",
       "  <tbody>\n",
       "    <tr>\n",
       "      <th>2941940</th>\n",
       "      <td>320431</td>\n",
       "      <td>1508183187238264</td>\n",
       "      <td>2017-10-16 19:46:27</td>\n",
       "      <td>2017-10-17 11:50:50.064</td>\n",
       "      <td>0 days 00:00:00</td>\n",
       "      <td>0 days 16:04:23.064000</td>\n",
       "      <td>57863.0</td>\n",
       "    </tr>\n",
       "    <tr>\n",
       "      <th>2941941</th>\n",
       "      <td>320431</td>\n",
       "      <td>1508183187238264</td>\n",
       "      <td>2017-10-16 19:46:27</td>\n",
       "      <td>2017-10-23 11:46:15.555</td>\n",
       "      <td>5 days 23:55:25.491000</td>\n",
       "      <td>6 days 15:59:48.555000</td>\n",
       "      <td>518125.0</td>\n",
       "    </tr>\n",
       "    <tr>\n",
       "      <th>2941942</th>\n",
       "      <td>320431</td>\n",
       "      <td>1508183187238264</td>\n",
       "      <td>2017-10-16 19:46:27</td>\n",
       "      <td>2017-10-26 13:16:13.801</td>\n",
       "      <td>3 days 01:29:58.246000</td>\n",
       "      <td>9 days 17:29:46.801000</td>\n",
       "      <td>264598.0</td>\n",
       "    </tr>\n",
       "    <tr>\n",
       "      <th>2941943</th>\n",
       "      <td>320431</td>\n",
       "      <td>1508183187238264</td>\n",
       "      <td>2017-10-16 19:46:27</td>\n",
       "      <td>2017-10-27 12:30:42.714</td>\n",
       "      <td>0 days 23:14:28.913000</td>\n",
       "      <td>10 days 16:44:15.714000</td>\n",
       "      <td>83669.0</td>\n",
       "    </tr>\n",
       "    <tr>\n",
       "      <th>2941944</th>\n",
       "      <td>320431</td>\n",
       "      <td>1508183187238264</td>\n",
       "      <td>2017-10-16 19:46:27</td>\n",
       "      <td>2017-11-03 11:52:38.700</td>\n",
       "      <td>6 days 23:21:55.986000</td>\n",
       "      <td>17 days 16:06:11.700000</td>\n",
       "      <td>602516.0</td>\n",
       "    </tr>\n",
       "    <tr>\n",
       "      <th>2941945</th>\n",
       "      <td>320431</td>\n",
       "      <td>1508183187238264</td>\n",
       "      <td>2017-10-16 19:46:27</td>\n",
       "      <td>2017-11-03 19:17:54.249</td>\n",
       "      <td>0 days 07:25:15.549000</td>\n",
       "      <td>17 days 23:31:27.249000</td>\n",
       "      <td>26716.0</td>\n",
       "    </tr>\n",
       "    <tr>\n",
       "      <th>2941946</th>\n",
       "      <td>320431</td>\n",
       "      <td>1508183187238264</td>\n",
       "      <td>2017-10-16 19:46:27</td>\n",
       "      <td>2017-11-13 20:03:44.886</td>\n",
       "      <td>10 days 00:45:50.637000</td>\n",
       "      <td>28 days 00:17:17.886000</td>\n",
       "      <td>866751.0</td>\n",
       "    </tr>\n",
       "    <tr>\n",
       "      <th>2941947</th>\n",
       "      <td>320431</td>\n",
       "      <td>1508183187238264</td>\n",
       "      <td>2017-10-16 19:46:27</td>\n",
       "      <td>2017-11-13 20:04:14.886</td>\n",
       "      <td>0 days 00:00:30</td>\n",
       "      <td>28 days 00:17:47.886000</td>\n",
       "      <td>30.0</td>\n",
       "    </tr>\n",
       "  </tbody>\n",
       "</table>\n",
       "</div>"
      ],
      "text/plain": [
       "        user_id        session_id       session_start         click_timestamp  \\\n",
       "2941940  320431  1508183187238264 2017-10-16 19:46:27 2017-10-17 11:50:50.064   \n",
       "2941941  320431  1508183187238264 2017-10-16 19:46:27 2017-10-23 11:46:15.555   \n",
       "2941942  320431  1508183187238264 2017-10-16 19:46:27 2017-10-26 13:16:13.801   \n",
       "2941943  320431  1508183187238264 2017-10-16 19:46:27 2017-10-27 12:30:42.714   \n",
       "2941944  320431  1508183187238264 2017-10-16 19:46:27 2017-11-03 11:52:38.700   \n",
       "2941945  320431  1508183187238264 2017-10-16 19:46:27 2017-11-03 19:17:54.249   \n",
       "2941946  320431  1508183187238264 2017-10-16 19:46:27 2017-11-13 20:03:44.886   \n",
       "2941947  320431  1508183187238264 2017-10-16 19:46:27 2017-11-13 20:04:14.886   \n",
       "\n",
       "               delta_w_previous        end_article_view  view_duration  \n",
       "2941940         0 days 00:00:00  0 days 16:04:23.064000        57863.0  \n",
       "2941941  5 days 23:55:25.491000  6 days 15:59:48.555000       518125.0  \n",
       "2941942  3 days 01:29:58.246000  9 days 17:29:46.801000       264598.0  \n",
       "2941943  0 days 23:14:28.913000 10 days 16:44:15.714000        83669.0  \n",
       "2941944  6 days 23:21:55.986000 17 days 16:06:11.700000       602516.0  \n",
       "2941945  0 days 07:25:15.549000 17 days 23:31:27.249000        26716.0  \n",
       "2941946 10 days 00:45:50.637000 28 days 00:17:17.886000       866751.0  \n",
       "2941947         0 days 00:00:30 28 days 00:17:47.886000           30.0  "
      ]
     },
     "execution_count": 20,
     "metadata": {},
     "output_type": "execute_result"
    }
   ],
   "source": [
    "views[views.user_id == 320431]"
   ]
  },
  {
   "cell_type": "markdown",
   "metadata": {
    "papermill": {
     "duration": 0.014755,
     "end_time": "2022-11-12T01:37:12.740355",
     "exception": false,
     "start_time": "2022-11-12T01:37:12.7256",
     "status": "completed"
    },
    "tags": []
   },
   "source": [
    "**Observations clés** :\n",
    "Nous précisons que nous ne pouvons pas exploiter ces informations, car les dernières consultations d'articles par un client lors d'une session donnée sont limitées par défaut à 30 secondes.\n",
    "De même, certaines consultations durent plus longtemps que nécessaire, jusqu'à 10 jours pour certaines.\n",
    "\n",
    "**Conclusion** :\n",
    "Nous n'utiliserons pas ces données pour notre projet."
   ]
  },
  {
   "cell_type": "markdown",
   "metadata": {
    "papermill": {
     "duration": 0.014609,
     "end_time": "2022-11-12T01:37:12.770108",
     "exception": false,
     "start_time": "2022-11-12T01:37:12.755499",
     "status": "completed"
    },
    "tags": []
   },
   "source": [
    "## 5.3 Profil des utilisateurs"
   ]
  },
  {
   "cell_type": "markdown",
   "metadata": {
    "papermill": {
     "duration": 0.014532,
     "end_time": "2022-11-12T01:37:12.799402",
     "exception": false,
     "start_time": "2022-11-12T01:37:12.78487",
     "status": "completed"
    },
    "tags": []
   },
   "source": [
    "Pour identifier les articles susceptibles d'intéresser l'utilisateur, il est nécessaire d'analyser les données le concernant afin de construire, explicitement ou implicitement, des connaissances permettant d'établir son profil, profil qui sera ensuite exploité par le système de recommandation.\n",
    "\n",
    "On dit que les données sont :\n",
    "\n",
    "* explicites, lorsque l'utilisateur participe à la construction des données, par exemple lorsqu'il attribue une note à un article, l'aime, etc. ;\n",
    "* implicites, lorsque les données collectées concernent les interactions de l'utilisateur avec le système, telles que l'historique de navigation ou de recherche, les clics sur les articles, les téléchargements, la durée de consultation, la plateforme utilisée, etc.\n",
    "\n",
    "Dans cette partie, nous chercherons à identifier des données exploitables sur les utilisateurs."
   ]
  },
  {
   "cell_type": "markdown",
   "metadata": {
    "papermill": {
     "duration": 0.014498,
     "end_time": "2022-11-12T01:37:12.828737",
     "exception": false,
     "start_time": "2022-11-12T01:37:12.814239",
     "status": "completed"
    },
    "tags": []
   },
   "source": [
    "### 5.3.1 Sessions"
   ]
  },
  {
   "cell_type": "code",
   "execution_count": 22,
   "metadata": {
    "execution": {
     "iopub.execute_input": "2022-11-13T15:25:02.574997Z",
     "iopub.status.busy": "2022-11-13T15:25:02.574605Z",
     "iopub.status.idle": "2022-11-13T15:25:04.42363Z",
     "shell.execute_reply": "2022-11-13T15:25:04.422492Z",
     "shell.execute_reply.started": "2022-11-13T15:25:02.574967Z"
    },
    "papermill": {
     "duration": 1.824171,
     "end_time": "2022-11-12T01:37:14.667809",
     "exception": false,
     "start_time": "2022-11-12T01:37:12.843638",
     "status": "completed"
    },
    "tags": [],
    "trusted": true
   },
   "outputs": [
    {
     "name": "stdout",
     "output_type": "stream",
     "text": [
      "# session par utilisateur, Moyenne: 3.2 - Min: 1, Max: 207.\n"
     ]
    },
    {
     "data": {
      "image/png": "[encoded data removed]",
      "text/plain": [
       "<Figure size 1000x400 with 2 Axes>"
      ]
     },
     "metadata": {},
     "output_type": "display_data"
    }
   ],
   "source": [
    "x = clicks.groupby(['user_id'])['session_id'].nunique()\n",
    "print(\n",
    "    '# session par utilisateur, Moyenne: {} - Min: {}, Max: {}.'.format(round(x.mean(), 1),\n",
    "                                                              x.min(),\n",
    "                                                              x.max()))\n",
    "\n",
    "fig, (ax1, ax2) = plt.subplots (1, 2, figsize=(10, 4))\n",
    "ax1.boxplot(x)\n",
    "ax1.set_xlabel('# session')\n",
    "ax1.set_title('# session / utilisateur (avec les outliers)')\n",
    "ax2.boxplot(x, showfliers=False)\n",
    "ax2.set_xlabel('# session')\n",
    "ax2.set_title('# session / utilisateur (sans les outliers)')\n",
    "plt.show()"
   ]
  },
  {
   "cell_type": "code",
   "execution_count": 24,
   "metadata": {
    "execution": {
     "iopub.execute_input": "2022-11-13T15:25:06.461588Z",
     "iopub.status.busy": "2022-11-13T15:25:06.46117Z",
     "iopub.status.idle": "2022-11-13T15:25:07.611117Z",
     "shell.execute_reply": "2022-11-13T15:25:07.609696Z",
     "shell.execute_reply.started": "2022-11-13T15:25:06.461552Z"
    },
    "papermill": {
     "duration": 1.136352,
     "end_time": "2022-11-12T01:37:15.819699",
     "exception": false,
     "start_time": "2022-11-12T01:37:14.683347",
     "status": "completed"
    },
    "tags": [],
    "trusted": true
   },
   "outputs": [
    {
     "data": {
      "text/plain": [
       "<Axes: title={'center': 'Distribution du nombre de sessions.'}, xlabel='session_size'>"
      ]
     },
     "execution_count": 24,
     "metadata": {},
     "output_type": "execute_result"
    },
    {
     "data": {
      "image/png": "[encoded data removed]",
      "text/plain": [
       "<Figure size 1500x400 with 1 Axes>"
      ]
     },
     "metadata": {},
     "output_type": "display_data"
    }
   ],
   "source": [
    "clicks.groupby('session_size').size().plot(kind='bar', figsize=(15, 4), title='Distribution du nombre de sessions.')"
   ]
  },
  {
   "cell_type": "markdown",
   "metadata": {
    "papermill": {
     "duration": 0.015561,
     "end_time": "2022-11-12T01:37:15.851437",
     "exception": false,
     "start_time": "2022-11-12T01:37:15.835876",
     "status": "completed"
    },
    "tags": []
   },
   "source": [
    "**Observations clés**\n",
    "* Les utilisateurs ont consulté en moyenne 3 articles sur la période d'analyse, avec un minimum de 1 et un maximum de 207.\n",
    "* Les utilisateurs consultent généralement 2 articles par session, avec un maximum de 124 ;"
   ]
  },
  {
   "cell_type": "markdown",
   "metadata": {
    "papermill": {
     "duration": 0.015859,
     "end_time": "2022-11-12T01:37:15.883205",
     "exception": false,
     "start_time": "2022-11-12T01:37:15.867346",
     "status": "completed"
    },
    "tags": []
   },
   "source": [
    "### 5.3.2 Localisation géographique."
   ]
  },
  {
   "cell_type": "code",
   "execution_count": 26,
   "metadata": {
    "execution": {
     "iopub.execute_input": "2022-11-13T15:25:10.222268Z",
     "iopub.status.busy": "2022-11-13T15:25:10.221585Z",
     "iopub.status.idle": "2022-11-13T15:25:11.431472Z",
     "shell.execute_reply": "2022-11-13T15:25:11.430543Z",
     "shell.execute_reply.started": "2022-11-13T15:25:10.222213Z"
    },
    "papermill": {
     "duration": 1.175982,
     "end_time": "2022-11-12T01:37:17.075452",
     "exception": false,
     "start_time": "2022-11-12T01:37:15.89947",
     "status": "completed"
    },
    "tags": [],
    "trusted": true
   },
   "outputs": [
    {
     "data": {
      "text/plain": [
       "<Axes: title={'center': '# Nombre utilisateurs par état'}, xlabel='click_country'>"
      ]
     },
     "execution_count": 26,
     "metadata": {},
     "output_type": "execute_result"
    },
    {
     "data": {
      "image/png": "[encoded data removed]",
      "text/plain": [
       "<Figure size 640x480 with 1 Axes>"
      ]
     },
     "metadata": {},
     "output_type": "display_data"
    }
   ],
   "source": [
    "clicks.groupby('click_country')['user_id'].nunique().plot(kind='bar', title='# Nombre utilisateurs par état')"
   ]
  },
  {
   "cell_type": "code",
   "execution_count": 27,
   "metadata": {
    "execution": {
     "iopub.execute_input": "2022-11-13T15:25:12.952558Z",
     "iopub.status.busy": "2022-11-13T15:25:12.952126Z",
     "iopub.status.idle": "2022-11-13T15:25:14.810171Z",
     "shell.execute_reply": "2022-11-13T15:25:14.808872Z",
     "shell.execute_reply.started": "2022-11-13T15:25:12.95252Z"
    },
    "papermill": {
     "duration": 1.792015,
     "end_time": "2022-11-12T01:37:18.883767",
     "exception": false,
     "start_time": "2022-11-12T01:37:17.091752",
     "status": "completed"
    },
    "tags": [],
    "trusted": true
   },
   "outputs": [
    {
     "data": {
      "text/plain": [
       "<Axes: title={'center': '# Nombre utilisateurs par état et région.'}, xlabel='click_country,click_region'>"
      ]
     },
     "execution_count": 27,
     "metadata": {},
     "output_type": "execute_result"
    },
    {
     "data": {
      "image/png": "[encoded data removed]",
      "text/plain": [
       "<Figure size 1500x600 with 1 Axes>"
      ]
     },
     "metadata": {},
     "output_type": "display_data"
    }
   ],
   "source": [
    "clicks.groupby(['click_country', 'click_region'])['user_id'].nunique().plot(kind='bar', figsize=(15, 6), title='# Nombre utilisateurs par état et région.')\n"
   ]
  },
  {
   "cell_type": "markdown",
   "metadata": {
    "papermill": {
     "duration": 0.016328,
     "end_time": "2022-11-12T01:37:18.916784",
     "exception": false,
     "start_time": "2022-11-12T01:37:18.900456",
     "status": "completed"
    },
    "tags": []
   },
   "source": [
    "**Observations clés**\n",
    "\n",
    "La majorité des utilisateurs sont localisés dans l'état n°1 ;\n",
    "\n",
    "Dans l'état n°1, les 3 régions les plus actives par ordre d'importance sont 25, 21 et 13."
   ]
  },
  {
   "cell_type": "markdown",
   "metadata": {
    "papermill": {
     "duration": 0.016215,
     "end_time": "2022-11-12T01:37:18.949454",
     "exception": false,
     "start_time": "2022-11-12T01:37:18.933239",
     "status": "completed"
    },
    "tags": []
   },
   "source": [
    "### 5.3.3 Periodes de lecture"
   ]
  },
  {
   "cell_type": "code",
   "execution_count": 28,
   "metadata": {
    "execution": {
     "iopub.execute_input": "2022-11-13T15:25:17.152483Z",
     "iopub.status.busy": "2022-11-13T15:25:17.152031Z",
     "iopub.status.idle": "2022-11-13T15:25:32.738225Z",
     "shell.execute_reply": "2022-11-13T15:25:32.737097Z",
     "shell.execute_reply.started": "2022-11-13T15:25:17.152445Z"
    },
    "papermill": {
     "duration": 15.27318,
     "end_time": "2022-11-12T01:37:34.239321",
     "exception": false,
     "start_time": "2022-11-12T01:37:18.966141",
     "status": "completed"
    },
    "tags": [],
    "trusted": true
   },
   "outputs": [
    {
     "data": {
      "text/plain": [
       "<Axes: title={'center': '# articles par jour'}, xlabel='session_start'>"
      ]
     },
     "execution_count": 28,
     "metadata": {},
     "output_type": "execute_result"
    },
    {
     "data": {
      "image/png": "[encoded data removed]",
      "text/plain": [
       "<Figure size 640x480 with 1 Axes>"
      ]
     },
     "metadata": {},
     "output_type": "display_data"
    }
   ],
   "source": [
    "clicks.groupby(clicks['session_start'].dt.strftime('%d/%m/ %a')).size().plot(kind='bar', title='# articles par jour')"
   ]
  },
  {
   "cell_type": "markdown",
   "metadata": {
    "papermill": {
     "duration": 0.016918,
     "end_time": "2022-11-12T01:37:34.273319",
     "exception": false,
     "start_time": "2022-11-12T01:37:34.256401",
     "status": "completed"
    },
    "tags": []
   },
   "source": [
    "**Observations clés**\n",
    "\n",
    "Les utilisateurs consultent davantage les articles en début de semaine que le week-end."
   ]
  },
  {
   "cell_type": "markdown",
   "metadata": {
    "papermill": {
     "duration": 0.017675,
     "end_time": "2022-11-12T01:37:34.308082",
     "exception": false,
     "start_time": "2022-11-12T01:37:34.290407",
     "status": "completed"
    },
    "tags": []
   },
   "source": [
    "### 5.3.4 Contexte de lecture de lecture des articles."
   ]
  },
  {
   "cell_type": "markdown",
   "metadata": {
    "papermill": {
     "duration": 0.016828,
     "end_time": "2022-11-12T01:37:34.342622",
     "exception": false,
     "start_time": "2022-11-12T01:37:34.325794",
     "status": "completed"
    },
    "tags": []
   },
   "source": [
    "* **click_environment** : identifiant de l'environnement (1-Facebook, 2-Application mobile, 3-Pages mobiles, 4-Web) ;\n",
    "* **click_deviceGroup** : type d'appareil utilisé (1-Tablette, 2-Téléviseur, 4-Mobile, 5-Ordinateur ou 3-Vide) ;\n",
    "* **click_os** : l'identifiant du système d'exploitation (1-Autre, 2-iOS, 3-Android, 4-Windows Phone, 5-Windows Mobile, 6-Windows, 7-Mac OS X, 8-Mac OS, 9- Samsung, 10-FireHbbTV, 11-ATV OS X, 12-tvOS, 13-Chrome OS, 14-Debian, 15-Symbian OS, 16-BlackBerry OS, 17-Firefox OS, 18-Android, 19-Brew MP, 20-Chromecast, 21-webOS, 22-Gentoo, 23-Solaris);"
   ]
  },
  {
   "cell_type": "code",
   "execution_count": 30,
   "metadata": {
    "execution": {
     "iopub.execute_input": "2022-11-13T15:26:45.430294Z",
     "iopub.status.busy": "2022-11-13T15:26:45.429858Z",
     "iopub.status.idle": "2022-11-13T15:26:46.777445Z",
     "shell.execute_reply": "2022-11-13T15:26:46.776307Z",
     "shell.execute_reply.started": "2022-11-13T15:26:45.430258Z"
    },
    "papermill": {
     "duration": 1.38457,
     "end_time": "2022-11-12T01:37:35.744365",
     "exception": false,
     "start_time": "2022-11-12T01:37:34.359795",
     "status": "completed"
    },
    "tags": [],
    "trusted": true
   },
   "outputs": [
    {
     "data": {
      "text/plain": [
       "<function matplotlib.pyplot.show(close=None, block=None)>"
      ]
     },
     "execution_count": 30,
     "metadata": {},
     "output_type": "execute_result"
    },
    {
     "data": {
      "image/png": "[encoded data removed]",
      "text/plain": [
       "<Figure size 1800x400 with 3 Axes>"
      ]
     },
     "metadata": {},
     "output_type": "display_data"
    }
   ],
   "source": [
    "a = clicks.groupby('click_environment')['user_id'].count()\n",
    "b = clicks.groupby('click_deviceGroup')['user_id'].count()\n",
    "c = clicks.groupby('click_os')['user_id'].count()\n",
    "\n",
    "fig, (ax1, ax2, ax3) = plt.subplots(1, 3, figsize=(18, 4))\n",
    "a.plot(kind='bar', title='# utilisateur par plateforme de connection.', ax=ax1)\n",
    "b.plot(kind='bar', title='# utilisateur par type de terminale.', ax=ax2)\n",
    "c.plot(kind='bar', title='# utilisateur par système exploitation', ax=ax3)\n",
    "plt.show"
   ]
  },
  {
   "cell_type": "markdown",
   "metadata": {
    "papermill": {
     "duration": 0.017798,
     "end_time": "2022-11-12T01:37:35.779916",
     "exception": false,
     "start_time": "2022-11-12T01:37:35.762118",
     "status": "completed"
    },
    "tags": []
   },
   "source": [
    "**Observations clés**\n",
    "\n",
    "* La lecture des articles s'effectue sur la page web de Globo.com (peu de consultation sur l'application mobile) ;\n",
    "* Les utilisateurs consultent principalement les articles sur tablettes ;\n",
    "* Le système d'exploitation principal est Firefox.\n",
    "\n",
    "REMARQUE : ces données pourraient biaiser notre projet car notre MVP (Minimum Viable Product) est une application mobile : elles ne seront donc pas prises en compte dans notre système de recommandation."
   ]
  },
  {
   "cell_type": "markdown",
   "metadata": {
    "papermill": {
     "duration": 0.017468,
     "end_time": "2022-11-12T01:37:35.815249",
     "exception": false,
     "start_time": "2022-11-12T01:37:35.797781",
     "status": "completed"
    },
    "tags": []
   },
   "source": [
    "### 5.3.5 Catégories des articles."
   ]
  },
  {
   "cell_type": "code",
   "execution_count": 31,
   "metadata": {
    "execution": {
     "iopub.execute_input": "2022-11-13T15:26:50.999628Z",
     "iopub.status.busy": "2022-11-13T15:26:50.999202Z",
     "iopub.status.idle": "2022-11-13T15:27:29.608509Z",
     "shell.execute_reply": "2022-11-13T15:27:29.607173Z",
     "shell.execute_reply.started": "2022-11-13T15:26:50.999594Z"
    },
    "papermill": {
     "duration": 38.531946,
     "end_time": "2022-11-12T01:38:14.364755",
     "exception": false,
     "start_time": "2022-11-12T01:37:35.832809",
     "status": "completed"
    },
    "tags": [],
    "trusted": true
   },
   "outputs": [
    {
     "name": "stdout",
     "output_type": "stream",
     "text": [
      "(2988181, 17)\n"
     ]
    },
    {
     "data": {
      "text/html": [
       "<div>\n",
       "<style scoped>\n",
       "    .dataframe tbody tr th:only-of-type {\n",
       "        vertical-align: middle;\n",
       "    }\n",
       "\n",
       "    .dataframe tbody tr th {\n",
       "        vertical-align: top;\n",
       "    }\n",
       "\n",
       "    .dataframe thead th {\n",
       "        text-align: right;\n",
       "    }\n",
       "</style>\n",
       "<table border=\"1\" class=\"dataframe\">\n",
       "  <thead>\n",
       "    <tr style=\"text-align: right;\">\n",
       "      <th></th>\n",
       "      <th>user_id</th>\n",
       "      <th>session_id</th>\n",
       "      <th>session_start</th>\n",
       "      <th>session_size</th>\n",
       "      <th>article_id</th>\n",
       "      <th>click_timestamp</th>\n",
       "      <th>click_environment</th>\n",
       "      <th>click_deviceGroup</th>\n",
       "      <th>click_os</th>\n",
       "      <th>click_country</th>\n",
       "      <th>click_region</th>\n",
       "      <th>click_referrer_type</th>\n",
       "      <th>filename</th>\n",
       "      <th>category_id</th>\n",
       "      <th>created_at_ts</th>\n",
       "      <th>publisher_id</th>\n",
       "      <th>words_count</th>\n",
       "    </tr>\n",
       "  </thead>\n",
       "  <tbody>\n",
       "    <tr>\n",
       "      <th>0</th>\n",
       "      <td>0</td>\n",
       "      <td>1506825423271737</td>\n",
       "      <td>2017-10-01</td>\n",
       "      <td>2</td>\n",
       "      <td>157541</td>\n",
       "      <td>2017-10-01</td>\n",
       "      <td>4</td>\n",
       "      <td>3</td>\n",
       "      <td>20</td>\n",
       "      <td>1</td>\n",
       "      <td>20</td>\n",
       "      <td>2</td>\n",
       "      <td>0</td>\n",
       "      <td>281</td>\n",
       "      <td>2017-09-30</td>\n",
       "      <td>0</td>\n",
       "      <td>280</td>\n",
       "    </tr>\n",
       "    <tr>\n",
       "      <th>1</th>\n",
       "      <td>0</td>\n",
       "      <td>1506825423271737</td>\n",
       "      <td>2017-10-01</td>\n",
       "      <td>2</td>\n",
       "      <td>68866</td>\n",
       "      <td>2017-10-01</td>\n",
       "      <td>4</td>\n",
       "      <td>3</td>\n",
       "      <td>20</td>\n",
       "      <td>1</td>\n",
       "      <td>20</td>\n",
       "      <td>2</td>\n",
       "      <td>0</td>\n",
       "      <td>136</td>\n",
       "      <td>2017-10-01</td>\n",
       "      <td>0</td>\n",
       "      <td>226</td>\n",
       "    </tr>\n",
       "    <tr>\n",
       "      <th>2</th>\n",
       "      <td>1</td>\n",
       "      <td>1506825426267738</td>\n",
       "      <td>2017-10-01</td>\n",
       "      <td>2</td>\n",
       "      <td>235840</td>\n",
       "      <td>2017-10-01</td>\n",
       "      <td>4</td>\n",
       "      <td>1</td>\n",
       "      <td>17</td>\n",
       "      <td>1</td>\n",
       "      <td>16</td>\n",
       "      <td>2</td>\n",
       "      <td>0</td>\n",
       "      <td>375</td>\n",
       "      <td>2017-09-30</td>\n",
       "      <td>0</td>\n",
       "      <td>159</td>\n",
       "    </tr>\n",
       "    <tr>\n",
       "      <th>3</th>\n",
       "      <td>1</td>\n",
       "      <td>1506825426267738</td>\n",
       "      <td>2017-10-01</td>\n",
       "      <td>2</td>\n",
       "      <td>96663</td>\n",
       "      <td>2017-10-01</td>\n",
       "      <td>4</td>\n",
       "      <td>1</td>\n",
       "      <td>17</td>\n",
       "      <td>1</td>\n",
       "      <td>16</td>\n",
       "      <td>2</td>\n",
       "      <td>0</td>\n",
       "      <td>209</td>\n",
       "      <td>2017-09-30</td>\n",
       "      <td>0</td>\n",
       "      <td>206</td>\n",
       "    </tr>\n",
       "    <tr>\n",
       "      <th>4</th>\n",
       "      <td>2</td>\n",
       "      <td>1506825435299739</td>\n",
       "      <td>2017-10-01</td>\n",
       "      <td>2</td>\n",
       "      <td>119592</td>\n",
       "      <td>2017-10-01</td>\n",
       "      <td>4</td>\n",
       "      <td>1</td>\n",
       "      <td>17</td>\n",
       "      <td>1</td>\n",
       "      <td>24</td>\n",
       "      <td>2</td>\n",
       "      <td>0</td>\n",
       "      <td>247</td>\n",
       "      <td>2017-09-30</td>\n",
       "      <td>0</td>\n",
       "      <td>239</td>\n",
       "    </tr>\n",
       "  </tbody>\n",
       "</table>\n",
       "</div>"
      ],
      "text/plain": [
       "  user_id        session_id session_start session_size article_id  \\\n",
       "0       0  1506825423271737    2017-10-01            2     157541   \n",
       "1       0  1506825423271737    2017-10-01            2      68866   \n",
       "2       1  1506825426267738    2017-10-01            2     235840   \n",
       "3       1  1506825426267738    2017-10-01            2      96663   \n",
       "4       2  1506825435299739    2017-10-01            2     119592   \n",
       "\n",
       "  click_timestamp click_environment click_deviceGroup click_os click_country  \\\n",
       "0      2017-10-01                 4                 3       20             1   \n",
       "1      2017-10-01                 4                 3       20             1   \n",
       "2      2017-10-01                 4                 1       17             1   \n",
       "3      2017-10-01                 4                 1       17             1   \n",
       "4      2017-10-01                 4                 1       17             1   \n",
       "\n",
       "  click_region click_referrer_type  filename  category_id created_at_ts  \\\n",
       "0           20                   2         0          281    2017-09-30   \n",
       "1           20                   2         0          136    2017-10-01   \n",
       "2           16                   2         0          375    2017-09-30   \n",
       "3           16                   2         0          209    2017-09-30   \n",
       "4           24                   2         0          247    2017-09-30   \n",
       "\n",
       "   publisher_id  words_count  \n",
       "0             0          280  \n",
       "1             0          226  \n",
       "2             0          159  \n",
       "3             0          206  \n",
       "4             0          239  "
      ]
     },
     "execution_count": 31,
     "metadata": {},
     "output_type": "execute_result"
    }
   ],
   "source": [
    "clicks_articles = pd.merge(clicks, articles, how='inner', on='article_id')\n",
    "\n",
    "clicks_articles['session_start'] = pd.to_datetime(clicks_articles['session_start'].dt.strftime('%Y/%m/%d'))\n",
    "clicks_articles['click_timestamp'] = pd.to_datetime(clicks_articles['click_timestamp'].dt.strftime('%Y/%m/%d'))\n",
    "\n",
    "print(clicks_articles.shape)\n",
    "clicks_articles.head()"
   ]
  },
  {
   "cell_type": "code",
   "execution_count": 32,
   "metadata": {
    "execution": {
     "iopub.execute_input": "2022-11-13T15:27:50.297086Z",
     "iopub.status.busy": "2022-11-13T15:27:50.296665Z",
     "iopub.status.idle": "2022-11-13T15:27:51.557465Z",
     "shell.execute_reply": "2022-11-13T15:27:51.556245Z",
     "shell.execute_reply.started": "2022-11-13T15:27:50.297042Z"
    },
    "papermill": {
     "duration": 1.229333,
     "end_time": "2022-11-12T01:38:15.61259",
     "exception": false,
     "start_time": "2022-11-12T01:38:14.383257",
     "status": "completed"
    },
    "tags": [],
    "trusted": true
   },
   "outputs": [
    {
     "data": {
      "text/plain": [
       "<function matplotlib.pyplot.show(close=None, block=None)>"
      ]
     },
     "execution_count": 32,
     "metadata": {},
     "output_type": "execute_result"
    },
    {
     "data": {
      "image/png": "[encoded data removed]",
      "text/plain": [
       "<Figure size 1800x400 with 2 Axes>"
      ]
     },
     "metadata": {},
     "output_type": "display_data"
    }
   ],
   "source": [
    "d = articles.groupby('category_id')['article_id'].nunique().sort_values(ascending=False)\n",
    "e = clicks_articles.groupby('category_id')['article_id'].count().sort_values(ascending=False)\n",
    "\n",
    "fig, (ax1, ax2) = plt.subplots(1, 2, figsize=(18, 4))\n",
    "d.head(30).plot(kind='bar', ax=ax1)\n",
    "ax1.set_title('Top30 ({}%) articles par catégorie'.format(\n",
    "    round(sum(d.head(30))/sum(d) * 100, 0)),\n",
    "    fontsize=12, fontweight='bold')\n",
    "e.head(30).plot(kind='bar', ax=ax2)\n",
    "ax2.set_title('Top30 ({}%) articles les plus lu par catégorie'.format(\n",
    "    round(sum(e.head(30))/sum(e) * 100, 0)),\n",
    "    fontsize=12, fontweight='bold')\n",
    "plt.show"
   ]
  },
  {
   "cell_type": "code",
   "execution_count": 33,
   "metadata": {
    "execution": {
     "iopub.execute_input": "2022-11-13T15:27:53.076919Z",
     "iopub.status.busy": "2022-11-13T15:27:53.076494Z",
     "iopub.status.idle": "2022-11-13T15:27:53.08401Z",
     "shell.execute_reply": "2022-11-13T15:27:53.082686Z",
     "shell.execute_reply.started": "2022-11-13T15:27:53.076886Z"
    },
    "papermill": {
     "duration": 0.029173,
     "end_time": "2022-11-12T01:38:15.660445",
     "exception": false,
     "start_time": "2022-11-12T01:38:15.631272",
     "status": "completed"
    },
    "tags": [],
    "trusted": true
   },
   "outputs": [
    {
     "name": "stdout",
     "output_type": "stream",
     "text": [
      "[281, 375, 399, 412, 431, 428, 26, 301, 442, 437, 118, 209, 354, 136, 331, 421, 436, 252]\n"
     ]
    }
   ],
   "source": [
    "def intersection(lst1, lst2):\n",
    "    lst3 = [value for value in lst1 if value in lst2]\n",
    "    return lst3\n",
    "\n",
    "print(intersection(d.head(30).index.to_list(), e.head(30).index.to_list()))"
   ]
  },
  {
   "cell_type": "markdown",
   "metadata": {
    "papermill": {
     "duration": 0.018275,
     "end_time": "2022-11-12T01:38:15.697314",
     "exception": false,
     "start_time": "2022-11-12T01:38:15.679039",
     "status": "completed"
    },
    "tags": []
   },
   "source": [
    "**Observations clés**\n",
    "\n",
    "* 50 % des articles publiés appartiennent aux 30 premières catégories (461 au total) ;\n",
    "* Les catégories 281, 375 et 412 concentrent à la fois un grand nombre d'articles publiés (31 340 ; 68 % des articles) et un grand nombre d'articles consultés (817 994 ; 27 % des interactions) : probablement des sujets d'actualité (politique, économie, etc.).\n",
    "\n",
    "REMARQUE : L'utilisation de cette catégorie peut limiter nos recommandations aux articles populaires."
   ]
  },
  {
   "cell_type": "markdown",
   "metadata": {
    "papermill": {
     "duration": 0.018111,
     "end_time": "2022-11-12T01:38:15.733865",
     "exception": false,
     "start_time": "2022-11-12T01:38:15.715754",
     "status": "completed"
    },
    "tags": []
   },
   "source": [
    "### 5.3.6 Mots par articles."
   ]
  },
  {
   "cell_type": "code",
   "execution_count": 34,
   "metadata": {
    "execution": {
     "iopub.execute_input": "2022-11-13T15:28:00.835428Z",
     "iopub.status.busy": "2022-11-13T15:28:00.834985Z",
     "iopub.status.idle": "2022-11-13T15:28:01.137863Z",
     "shell.execute_reply": "2022-11-13T15:28:01.136737Z",
     "shell.execute_reply.started": "2022-11-13T15:28:00.835392Z"
    },
    "papermill": {
     "duration": 0.338284,
     "end_time": "2022-11-12T01:38:16.090687",
     "exception": false,
     "start_time": "2022-11-12T01:38:15.752403",
     "status": "completed"
    },
    "tags": [],
    "trusted": true
   },
   "outputs": [
    {
     "name": "stdout",
     "output_type": "stream",
     "text": [
      "# mots par article, Moyenne: 191.0 - Min: 0, Max: 6690.\n",
      "La moitié des articles contiennent entre 159.0 et 218.0 mots\n"
     ]
    },
    {
     "data": {
      "image/png": "[encoded data removed]",
      "text/plain": [
       "<Figure size 1500x400 with 2 Axes>"
      ]
     },
     "metadata": {},
     "output_type": "display_data"
    }
   ],
   "source": [
    "x = articles['words_count']\n",
    "print(\n",
    "    '# mots par article, Moyenne: {} - Min: {}, Max: {}.'.format(round(x.mean(), 0),\n",
    "                                                              x.min(),\n",
    "                                                              x.max()))\n",
    "print('La moitié des articles contiennent entre {} et {} mots'.format(x.quantile(.25),\n",
    "                                                                      x.quantile(.75)))\n",
    "\n",
    "fig, (ax1, ax2) = plt.subplots (1, 2, figsize=(15, 4))\n",
    "ax1.boxplot(x)\n",
    "ax1.set_xlabel('# mots')\n",
    "ax1.set_title('# mots / article (avec les outliers)')\n",
    "ax2.boxplot(x, showfliers=False)\n",
    "ax2.set_xlabel('# mots')\n",
    "ax2.set_title('# mots / article (sans les outliers)')\n",
    "plt.show()\n"
   ]
  },
  {
   "cell_type": "code",
   "execution_count": 37,
   "metadata": {
    "execution": {
     "iopub.execute_input": "2022-11-13T15:28:05.756105Z",
     "iopub.status.busy": "2022-11-13T15:28:05.755673Z",
     "iopub.status.idle": "2022-11-13T15:28:05.778522Z",
     "shell.execute_reply": "2022-11-13T15:28:05.777372Z",
     "shell.execute_reply.started": "2022-11-13T15:28:05.756068Z"
    },
    "papermill": {
     "duration": 0.041495,
     "end_time": "2022-11-12T01:38:16.151134",
     "exception": false,
     "start_time": "2022-11-12T01:38:16.109639",
     "status": "completed"
    },
    "tags": [],
    "trusted": true
   },
   "outputs": [
    {
     "name": "stdout",
     "output_type": "stream",
     "text": [
      "Nombre articles impliqués:  35\n"
     ]
    },
    {
     "data": {
      "text/html": [
       "<div>\n",
       "<style scoped>\n",
       "    .dataframe tbody tr th:only-of-type {\n",
       "        vertical-align: middle;\n",
       "    }\n",
       "\n",
       "    .dataframe tbody tr th {\n",
       "        vertical-align: top;\n",
       "    }\n",
       "\n",
       "    .dataframe thead th {\n",
       "        text-align: right;\n",
       "    }\n",
       "</style>\n",
       "<table border=\"1\" class=\"dataframe\">\n",
       "  <thead>\n",
       "    <tr style=\"text-align: right;\">\n",
       "      <th></th>\n",
       "      <th>article_id</th>\n",
       "      <th>category_id</th>\n",
       "      <th>created_at_ts</th>\n",
       "      <th>publisher_id</th>\n",
       "      <th>words_count</th>\n",
       "    </tr>\n",
       "  </thead>\n",
       "  <tbody>\n",
       "    <tr>\n",
       "      <th>35491</th>\n",
       "      <td>35491</td>\n",
       "      <td>43</td>\n",
       "      <td>2016-08-04</td>\n",
       "      <td>0</td>\n",
       "      <td>0</td>\n",
       "    </tr>\n",
       "    <tr>\n",
       "      <th>38472</th>\n",
       "      <td>38472</td>\n",
       "      <td>51</td>\n",
       "      <td>2011-04-21</td>\n",
       "      <td>0</td>\n",
       "      <td>0</td>\n",
       "    </tr>\n",
       "    <tr>\n",
       "      <th>39043</th>\n",
       "      <td>39043</td>\n",
       "      <td>64</td>\n",
       "      <td>2014-06-30</td>\n",
       "      <td>0</td>\n",
       "      <td>0</td>\n",
       "    </tr>\n",
       "    <tr>\n",
       "      <th>39054</th>\n",
       "      <td>39054</td>\n",
       "      <td>64</td>\n",
       "      <td>2015-01-21</td>\n",
       "      <td>0</td>\n",
       "      <td>0</td>\n",
       "    </tr>\n",
       "    <tr>\n",
       "      <th>164414</th>\n",
       "      <td>164414</td>\n",
       "      <td>288</td>\n",
       "      <td>2015-03-30</td>\n",
       "      <td>0</td>\n",
       "      <td>0</td>\n",
       "    </tr>\n",
       "    <tr>\n",
       "      <th>206233</th>\n",
       "      <td>206233</td>\n",
       "      <td>331</td>\n",
       "      <td>2017-09-30</td>\n",
       "      <td>0</td>\n",
       "      <td>0</td>\n",
       "    </tr>\n",
       "    <tr>\n",
       "      <th>212323</th>\n",
       "      <td>212323</td>\n",
       "      <td>343</td>\n",
       "      <td>2010-04-19</td>\n",
       "      <td>0</td>\n",
       "      <td>0</td>\n",
       "    </tr>\n",
       "    <tr>\n",
       "      <th>212324</th>\n",
       "      <td>212324</td>\n",
       "      <td>343</td>\n",
       "      <td>2010-04-16</td>\n",
       "      <td>0</td>\n",
       "      <td>0</td>\n",
       "    </tr>\n",
       "    <tr>\n",
       "      <th>212327</th>\n",
       "      <td>212327</td>\n",
       "      <td>343</td>\n",
       "      <td>2014-08-11</td>\n",
       "      <td>0</td>\n",
       "      <td>0</td>\n",
       "    </tr>\n",
       "    <tr>\n",
       "      <th>212526</th>\n",
       "      <td>212526</td>\n",
       "      <td>347</td>\n",
       "      <td>2018-01-28</td>\n",
       "      <td>0</td>\n",
       "      <td>0</td>\n",
       "    </tr>\n",
       "    <tr>\n",
       "      <th>233934</th>\n",
       "      <td>233934</td>\n",
       "      <td>375</td>\n",
       "      <td>2017-10-05</td>\n",
       "      <td>0</td>\n",
       "      <td>0</td>\n",
       "    </tr>\n",
       "    <tr>\n",
       "      <th>236119</th>\n",
       "      <td>236119</td>\n",
       "      <td>375</td>\n",
       "      <td>2017-08-17</td>\n",
       "      <td>0</td>\n",
       "      <td>0</td>\n",
       "    </tr>\n",
       "    <tr>\n",
       "      <th>248114</th>\n",
       "      <td>248114</td>\n",
       "      <td>386</td>\n",
       "      <td>2018-01-28</td>\n",
       "      <td>0</td>\n",
       "      <td>0</td>\n",
       "    </tr>\n",
       "    <tr>\n",
       "      <th>275183</th>\n",
       "      <td>275183</td>\n",
       "      <td>408</td>\n",
       "      <td>2014-05-20</td>\n",
       "      <td>0</td>\n",
       "      <td>0</td>\n",
       "    </tr>\n",
       "    <tr>\n",
       "      <th>315386</th>\n",
       "      <td>315386</td>\n",
       "      <td>431</td>\n",
       "      <td>2015-01-14</td>\n",
       "      <td>0</td>\n",
       "      <td>0</td>\n",
       "    </tr>\n",
       "    <tr>\n",
       "      <th>315387</th>\n",
       "      <td>315387</td>\n",
       "      <td>431</td>\n",
       "      <td>2015-01-13</td>\n",
       "      <td>0</td>\n",
       "      <td>0</td>\n",
       "    </tr>\n",
       "    <tr>\n",
       "      <th>315388</th>\n",
       "      <td>315388</td>\n",
       "      <td>431</td>\n",
       "      <td>2015-01-14</td>\n",
       "      <td>0</td>\n",
       "      <td>0</td>\n",
       "    </tr>\n",
       "    <tr>\n",
       "      <th>315389</th>\n",
       "      <td>315389</td>\n",
       "      <td>431</td>\n",
       "      <td>2015-01-20</td>\n",
       "      <td>0</td>\n",
       "      <td>0</td>\n",
       "    </tr>\n",
       "    <tr>\n",
       "      <th>315390</th>\n",
       "      <td>315390</td>\n",
       "      <td>431</td>\n",
       "      <td>2015-01-14</td>\n",
       "      <td>0</td>\n",
       "      <td>0</td>\n",
       "    </tr>\n",
       "    <tr>\n",
       "      <th>315391</th>\n",
       "      <td>315391</td>\n",
       "      <td>431</td>\n",
       "      <td>2015-01-29</td>\n",
       "      <td>0</td>\n",
       "      <td>0</td>\n",
       "    </tr>\n",
       "    <tr>\n",
       "      <th>315392</th>\n",
       "      <td>315392</td>\n",
       "      <td>431</td>\n",
       "      <td>2015-01-23</td>\n",
       "      <td>0</td>\n",
       "      <td>0</td>\n",
       "    </tr>\n",
       "    <tr>\n",
       "      <th>315393</th>\n",
       "      <td>315393</td>\n",
       "      <td>431</td>\n",
       "      <td>2015-01-16</td>\n",
       "      <td>0</td>\n",
       "      <td>0</td>\n",
       "    </tr>\n",
       "    <tr>\n",
       "      <th>315394</th>\n",
       "      <td>315394</td>\n",
       "      <td>431</td>\n",
       "      <td>2015-02-02</td>\n",
       "      <td>0</td>\n",
       "      <td>0</td>\n",
       "    </tr>\n",
       "    <tr>\n",
       "      <th>315395</th>\n",
       "      <td>315395</td>\n",
       "      <td>431</td>\n",
       "      <td>2015-02-05</td>\n",
       "      <td>0</td>\n",
       "      <td>0</td>\n",
       "    </tr>\n",
       "    <tr>\n",
       "      <th>315396</th>\n",
       "      <td>315396</td>\n",
       "      <td>431</td>\n",
       "      <td>2015-02-06</td>\n",
       "      <td>0</td>\n",
       "      <td>0</td>\n",
       "    </tr>\n",
       "    <tr>\n",
       "      <th>315397</th>\n",
       "      <td>315397</td>\n",
       "      <td>431</td>\n",
       "      <td>2015-02-04</td>\n",
       "      <td>0</td>\n",
       "      <td>0</td>\n",
       "    </tr>\n",
       "    <tr>\n",
       "      <th>315398</th>\n",
       "      <td>315398</td>\n",
       "      <td>431</td>\n",
       "      <td>2015-02-04</td>\n",
       "      <td>0</td>\n",
       "      <td>0</td>\n",
       "    </tr>\n",
       "    <tr>\n",
       "      <th>315788</th>\n",
       "      <td>315788</td>\n",
       "      <td>431</td>\n",
       "      <td>2015-01-26</td>\n",
       "      <td>0</td>\n",
       "      <td>0</td>\n",
       "    </tr>\n",
       "    <tr>\n",
       "      <th>315789</th>\n",
       "      <td>315789</td>\n",
       "      <td>431</td>\n",
       "      <td>2015-01-09</td>\n",
       "      <td>0</td>\n",
       "      <td>0</td>\n",
       "    </tr>\n",
       "    <tr>\n",
       "      <th>315790</th>\n",
       "      <td>315790</td>\n",
       "      <td>431</td>\n",
       "      <td>2015-02-26</td>\n",
       "      <td>0</td>\n",
       "      <td>0</td>\n",
       "    </tr>\n",
       "    <tr>\n",
       "      <th>315791</th>\n",
       "      <td>315791</td>\n",
       "      <td>431</td>\n",
       "      <td>2015-02-09</td>\n",
       "      <td>0</td>\n",
       "      <td>0</td>\n",
       "    </tr>\n",
       "    <tr>\n",
       "      <th>315792</th>\n",
       "      <td>315792</td>\n",
       "      <td>431</td>\n",
       "      <td>2015-03-10</td>\n",
       "      <td>0</td>\n",
       "      <td>0</td>\n",
       "    </tr>\n",
       "    <tr>\n",
       "      <th>315793</th>\n",
       "      <td>315793</td>\n",
       "      <td>431</td>\n",
       "      <td>2015-03-10</td>\n",
       "      <td>0</td>\n",
       "      <td>0</td>\n",
       "    </tr>\n",
       "    <tr>\n",
       "      <th>328318</th>\n",
       "      <td>328318</td>\n",
       "      <td>436</td>\n",
       "      <td>2017-05-04</td>\n",
       "      <td>0</td>\n",
       "      <td>0</td>\n",
       "    </tr>\n",
       "    <tr>\n",
       "      <th>333154</th>\n",
       "      <td>333154</td>\n",
       "      <td>437</td>\n",
       "      <td>2017-06-30</td>\n",
       "      <td>0</td>\n",
       "      <td>0</td>\n",
       "    </tr>\n",
       "  </tbody>\n",
       "</table>\n",
       "</div>"
      ],
      "text/plain": [
       "        article_id  category_id created_at_ts  publisher_id  words_count\n",
       "35491        35491           43    2016-08-04             0            0\n",
       "38472        38472           51    2011-04-21             0            0\n",
       "39043        39043           64    2014-06-30             0            0\n",
       "39054        39054           64    2015-01-21             0            0\n",
       "164414      164414          288    2015-03-30             0            0\n",
       "206233      206233          331    2017-09-30             0            0\n",
       "212323      212323          343    2010-04-19             0            0\n",
       "212324      212324          343    2010-04-16             0            0\n",
       "212327      212327          343    2014-08-11             0            0\n",
       "212526      212526          347    2018-01-28             0            0\n",
       "233934      233934          375    2017-10-05             0            0\n",
       "236119      236119          375    2017-08-17             0            0\n",
       "248114      248114          386    2018-01-28             0            0\n",
       "275183      275183          408    2014-05-20             0            0\n",
       "315386      315386          431    2015-01-14             0            0\n",
       "315387      315387          431    2015-01-13             0            0\n",
       "315388      315388          431    2015-01-14             0            0\n",
       "315389      315389          431    2015-01-20             0            0\n",
       "315390      315390          431    2015-01-14             0            0\n",
       "315391      315391          431    2015-01-29             0            0\n",
       "315392      315392          431    2015-01-23             0            0\n",
       "315393      315393          431    2015-01-16             0            0\n",
       "315394      315394          431    2015-02-02             0            0\n",
       "315395      315395          431    2015-02-05             0            0\n",
       "315396      315396          431    2015-02-06             0            0\n",
       "315397      315397          431    2015-02-04             0            0\n",
       "315398      315398          431    2015-02-04             0            0\n",
       "315788      315788          431    2015-01-26             0            0\n",
       "315789      315789          431    2015-01-09             0            0\n",
       "315790      315790          431    2015-02-26             0            0\n",
       "315791      315791          431    2015-02-09             0            0\n",
       "315792      315792          431    2015-03-10             0            0\n",
       "315793      315793          431    2015-03-10             0            0\n",
       "328318      328318          436    2017-05-04             0            0\n",
       "333154      333154          437    2017-06-30             0            0"
      ]
     },
     "execution_count": 37,
     "metadata": {},
     "output_type": "execute_result"
    }
   ],
   "source": [
    "print('Nombre articles impliqués: ', len(articles[articles['words_count'] == 0]))\n",
    "articles[articles['words_count'] == 0]"
   ]
  },
  {
   "cell_type": "markdown",
   "metadata": {
    "papermill": {
     "duration": 0.018925,
     "end_time": "2022-11-12T01:38:16.189788",
     "exception": false,
     "start_time": "2022-11-12T01:38:16.170863",
     "status": "completed"
    },
    "tags": []
   },
   "source": [
    "**Observations clés**\n",
    "\n",
    "* Les articles comptent en moyenne environ 200 mots ;\n",
    "* Nous constatons quelques légères incohérences avec les articles sans texte, principalement dans la catégorie 431."
   ]
  },
  {
   "cell_type": "markdown",
   "metadata": {
    "papermill": {
     "duration": 0.018905,
     "end_time": "2022-11-12T01:38:16.227805",
     "exception": false,
     "start_time": "2022-11-12T01:38:16.2089",
     "status": "completed"
    },
    "tags": []
   },
   "source": [
    "### 5.3.7 Période de lectures"
   ]
  },
  {
   "cell_type": "code",
   "execution_count": 39,
   "metadata": {
    "execution": {
     "iopub.execute_input": "2022-11-13T15:28:08.912441Z",
     "iopub.status.busy": "2022-11-13T15:28:08.912015Z",
     "iopub.status.idle": "2022-11-13T15:28:13.578421Z",
     "shell.execute_reply": "2022-11-13T15:28:13.577105Z",
     "shell.execute_reply.started": "2022-11-13T15:28:08.912405Z"
    },
    "papermill": {
     "duration": 4.755821,
     "end_time": "2022-11-12T01:38:21.003371",
     "exception": false,
     "start_time": "2022-11-12T01:38:16.24755",
     "status": "completed"
    },
    "tags": [],
    "trusted": true
   },
   "outputs": [
    {
     "name": "stdout",
     "output_type": "stream",
     "text": [
      "Top10 articles interactions shape:  (240861, 19)\n",
      "Top10 articles views shape:  (94, 3)\n"
     ]
    },
    {
     "data": {
      "text/html": [
       "<div>\n",
       "<style scoped>\n",
       "    .dataframe tbody tr th:only-of-type {\n",
       "        vertical-align: middle;\n",
       "    }\n",
       "\n",
       "    .dataframe tbody tr th {\n",
       "        vertical-align: top;\n",
       "    }\n",
       "\n",
       "    .dataframe thead th {\n",
       "        text-align: right;\n",
       "    }\n",
       "</style>\n",
       "<table border=\"1\" class=\"dataframe\">\n",
       "  <thead>\n",
       "    <tr style=\"text-align: right;\">\n",
       "      <th></th>\n",
       "      <th>article_id</th>\n",
       "      <th>view_recency</th>\n",
       "      <th>click_timestamp</th>\n",
       "    </tr>\n",
       "  </thead>\n",
       "  <tbody>\n",
       "    <tr>\n",
       "      <th>0</th>\n",
       "      <td>96210</td>\n",
       "      <td>0.0</td>\n",
       "      <td>1252</td>\n",
       "    </tr>\n",
       "    <tr>\n",
       "      <th>1</th>\n",
       "      <td>96210</td>\n",
       "      <td>1.0</td>\n",
       "      <td>17613</td>\n",
       "    </tr>\n",
       "    <tr>\n",
       "      <th>2</th>\n",
       "      <td>96210</td>\n",
       "      <td>2.0</td>\n",
       "      <td>2663</td>\n",
       "    </tr>\n",
       "    <tr>\n",
       "      <th>3</th>\n",
       "      <td>96210</td>\n",
       "      <td>3.0</td>\n",
       "      <td>34</td>\n",
       "    </tr>\n",
       "    <tr>\n",
       "      <th>4</th>\n",
       "      <td>96210</td>\n",
       "      <td>4.0</td>\n",
       "      <td>12</td>\n",
       "    </tr>\n",
       "  </tbody>\n",
       "</table>\n",
       "</div>"
      ],
      "text/plain": [
       "  article_id  view_recency  click_timestamp\n",
       "0      96210           0.0             1252\n",
       "1      96210           1.0            17613\n",
       "2      96210           2.0             2663\n",
       "3      96210           3.0               34\n",
       "4      96210           4.0               12"
      ]
     },
     "execution_count": 39,
     "metadata": {},
     "output_type": "execute_result"
    }
   ],
   "source": [
    "clicks_articles['view_recency'] = clicks_articles['click_timestamp'] - clicks_articles['created_at_ts']\n",
    "clicks_articles['view_recency'] = (clicks_articles['view_recency'] / pd.Timedelta(days=1))\n",
    "\n",
    "articles_popularity = clicks_articles.groupby('article_id', as_index=False)['click_timestamp'].count()\n",
    "articles_popularity.rename(columns={'click_timestamp':'nbClicks'}, inplace=True)\n",
    "articles_popularity.sort_values(by=['nbClicks'], ascending=False, inplace=True)\n",
    "\n",
    "articles_top10 = articles_popularity.head(10)\n",
    "\n",
    "articles_top10 = pd.merge(articles_top10, clicks_articles, on='article_id')\n",
    "\n",
    "articles_top10 = articles_top10[articles_top10.view_recency >= 0]\n",
    "print('Top10 articles interactions shape: ', articles_top10.shape)\n",
    "\n",
    "top10_clicks_per_day = pd.DataFrame(\n",
    "    articles_top10.groupby(['article_id','view_recency'], as_index=False)['click_timestamp'].count())\n",
    "\n",
    "print('Top10 articles views shape: ', top10_clicks_per_day.shape)\n",
    "top10_clicks_per_day.head()"
   ]
  },
  {
   "cell_type": "code",
   "execution_count": 40,
   "metadata": {
    "execution": {
     "iopub.execute_input": "2022-11-13T15:28:15.881232Z",
     "iopub.status.busy": "2022-11-13T15:28:15.880852Z",
     "iopub.status.idle": "2022-11-13T15:28:16.311271Z",
     "shell.execute_reply": "2022-11-13T15:28:16.310113Z",
     "shell.execute_reply.started": "2022-11-13T15:28:15.881201Z"
    },
    "papermill": {
     "duration": 0.473653,
     "end_time": "2022-11-12T01:38:21.497049",
     "exception": false,
     "start_time": "2022-11-12T01:38:21.023396",
     "status": "completed"
    },
    "tags": [],
    "trusted": true
   },
   "outputs": [
    {
     "data": {
      "image/png": "[encoded data removed]",
      "text/plain": [
       "<Figure size 1500x400 with 1 Axes>"
      ]
     },
     "metadata": {},
     "output_type": "display_data"
    }
   ],
   "source": [
    "plt.figure(figsize=(15, 4))\n",
    "palette = sns.color_palette('hls', 10)\n",
    "sns.lineplot(x=top10_clicks_per_day['view_recency'],\n",
    "             y=top10_clicks_per_day['click_timestamp'],\n",
    "             hue=top10_clicks_per_day['article_id'],\n",
    "             data=top10_clicks_per_day,\n",
    "             palette=palette,\n",
    "             marker='o')\n",
    "plt.xticks(range(0, len(top10_clicks_per_day.view_recency.unique())+1))\n",
    "plt.xlabel('Ancienneté du jour de lecture')\n",
    "plt.legend(top10_clicks_per_day.article_id.unique(), title='articleID')\n",
    "plt.title('# nombre de lecture par jour pour le top 10 des articles.',\n",
    "          fontsize=14, fontweight='bold')\n",
    "plt.show()"
   ]
  },
  {
   "cell_type": "markdown",
   "metadata": {
    "papermill": {
     "duration": 0.020101,
     "end_time": "2022-11-12T01:38:21.538161",
     "exception": false,
     "start_time": "2022-11-12T01:38:21.51806",
     "status": "completed"
    },
    "tags": []
   },
   "source": [
    "**Observations clés**\n",
    "\n",
    "Dans le top 10, les articles sont consultés soit le jour même, soit le lendemain, et l'intérêt diminue très rapidement les jours suivants."
   ]
  },
  {
   "cell_type": "markdown",
   "metadata": {
    "papermill": {
     "duration": 0.020519,
     "end_time": "2022-11-12T01:38:21.578986",
     "exception": false,
     "start_time": "2022-11-12T01:38:21.558467",
     "status": "completed"
    },
    "tags": []
   },
   "source": [
    "# 6. Conclusion"
   ]
  },
  {
   "cell_type": "markdown",
   "metadata": {
    "papermill": {
     "duration": 0.020057,
     "end_time": "2022-11-12T01:38:21.619348",
     "exception": false,
     "start_time": "2022-11-12T01:38:21.599291",
     "status": "completed"
    },
    "tags": []
   },
   "source": [
    "Dans cet ensemble de données, nous ne disposons que de données implicites (sans notation explicite) : les données sont binaires (article lu/non lu par l'utilisateur, sans notes ni notations).\n",
    "\n",
    "* **Avantage** : elles sont faciles à collecter ;\n",
    "* **Inconvénient** : elles n'indiquent pas si l'utilisateur n'aime pas un article ou si l'article consulté le concerne lui-même ou un tiers.\n",
    "* **Nous n'avons pas pu créer de données exploitables supplémentaires**, telles que la durée de consultation (cela aurait peut-être permis de créer artificiellement une notation sur l'intérêt manifesté pour l'article)."
   ]
  }
 ],
 "metadata": {
  "kaggle": {
   "accelerator": "none",
   "dataSources": [
    {
     "datasetId": 58648,
     "sourceId": 379373,
     "sourceType": "datasetVersion"
    }
   ],
   "dockerImageVersionId": 30301,
   "isGpuEnabled": false,
   "isInternetEnabled": false,
   "language": "python",
   "sourceType": "notebook"
  },
  "kernelspec": {
   "display_name": "projet10_venv",
   "language": "python",
   "name": "python3"
  },
  "language_info": {
   "codemirror_mode": {
    "name": "ipython",
    "version": 3
   },
   "file_extension": ".py",
   "mimetype": "text/x-python",
   "name": "python",
   "nbconvert_exporter": "python",
   "pygments_lexer": "ipython3",
   "version": "3.12.3"
  }
 },
 "nbformat": 4,
 "nbformat_minor": 4
}
